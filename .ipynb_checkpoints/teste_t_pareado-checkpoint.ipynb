{
 "cells": [
  {
   "cell_type": "markdown",
   "metadata": {
    "id": "Qt6NFwxO68nL"
   },
   "source": [
    "## TESTE t pareado (duas amostras dependentes) "
   ]
  },
  {
   "cell_type": "markdown",
   "metadata": {
    "id": "vB_V4a2EAIKe"
   },
   "source": [
    "Teste paramétrico"
   ]
  },
  {
   "cell_type": "code",
   "execution_count": null,
   "metadata": {
    "id": "P1k_GEUd62ik"
   },
   "outputs": [],
   "source": [
    "import numpy as np\n",
    "import pandas as pd"
   ]
  },
  {
   "cell_type": "code",
   "execution_count": null,
   "metadata": {
    "id": "DzMEX3BJoN3u"
   },
   "outputs": [],
   "source": [
    "enem_sp = pd.read_csv(\"C:\\\\Users\\\\amand\\\\Downloads\\\\enem_2019_tratado.csv\",\n",
    "                      sep=',', encoding='iso-8859-1')"
   ]
  },
  {
   "cell_type": "markdown",
   "metadata": {
    "id": "4aVRAjCFS3pr"
   },
   "source": [
    "Objetivo:\n",
    "Analisar a diferença média da nota de redação com relação aos seus componentes.\n",
    "\n",
    "**Obs.:** amostras independentes = analisa diferença nas médias. \n",
    "\n",
    "amostras dependentes = analisa a diferença média.\n",
    "\n",
    "\n",
    "\n",
    "\n"
   ]
  },
  {
   "cell_type": "code",
   "execution_count": null,
   "metadata": {
    "id": "QjUHhWqFoVG4"
   },
   "outputs": [],
   "source": [
    "colegioy = enem_sp.loc[enem_sp.CO_ESCOLA == 35151506.0]"
   ]
  },
  {
   "cell_type": "code",
   "execution_count": null,
   "metadata": {
    "colab": {
     "base_uri": "https://localhost:8080/"
    },
    "id": "ro1T9FRnoz3u",
    "outputId": "db652dc3-b1dd-45dd-8c11-36ecafa34eb4"
   },
   "outputs": [],
   "source": [
    "colegioy.shape"
   ]
  },
  {
   "cell_type": "code",
   "execution_count": null,
   "metadata": {
    "colab": {
     "base_uri": "https://localhost:8080/",
     "height": 215
    },
    "id": "5AYuP9cMcRhz",
    "outputId": "20cb66db-3287-400a-bcc6-9cfcf48692f3"
   },
   "outputs": [],
   "source": [
    "colegioy.head()"
   ]
  },
  {
   "cell_type": "markdown",
   "metadata": {
    "id": "CBuFd2yGfSMP"
   },
   "source": [
    "1) Analisar a classificação das variáveis"
   ]
  },
  {
   "cell_type": "code",
   "execution_count": null,
   "metadata": {
    "colab": {
     "base_uri": "https://localhost:8080/"
    },
    "id": "VZfjhBVufRdz",
    "outputId": "dfc66500-cf8d-4e3f-847c-6832ba8d6666"
   },
   "outputs": [],
   "source": [
    "colegioy.dtypes"
   ]
  },
  {
   "cell_type": "markdown",
   "metadata": {
    "id": "6pMJjefKgP8u"
   },
   "source": [
    "2) Analisar valores missing"
   ]
  },
  {
   "cell_type": "code",
   "execution_count": null,
   "metadata": {
    "colab": {
     "base_uri": "https://localhost:8080/"
    },
    "id": "Jk34lwvkgTdy",
    "outputId": "46a38bc3-0daf-4bd6-ba64-912073ca43d6"
   },
   "outputs": [],
   "source": [
    "colegioy.isnull().sum()"
   ]
  },
  {
   "cell_type": "markdown",
   "metadata": {
    "id": "Gp-LFhhXgxNo"
   },
   "source": [
    "3) Analisar outliers"
   ]
  },
  {
   "cell_type": "code",
   "execution_count": null,
   "metadata": {
    "id": "iVl4Du_PgwjE"
   },
   "outputs": [],
   "source": [
    "import plotly.express as px"
   ]
  },
  {
   "cell_type": "code",
   "execution_count": null,
   "metadata": {
    "colab": {
     "base_uri": "https://localhost:8080/",
     "height": 542
    },
    "id": "TL5yjLWKhH4c",
    "outputId": "b73dd0db-f6d7-4fd5-ec3b-0caec0f8ce0b"
   },
   "outputs": [],
   "source": [
    "grafico = px.box(colegioy, y=\"NOTA_REDACAO\")\n",
    "grafico.show()"
   ]
  },
  {
   "cell_type": "markdown",
   "metadata": {
    "id": "KSbhsCFohR9O"
   },
   "source": [
    "4) Analisar Normalidade"
   ]
  },
  {
   "cell_type": "markdown",
   "metadata": {
    "id": "Y7ax_KNLh_3F"
   },
   "source": [
    "A diferença entre as variáveis é que deve ser normal.\n",
    "\n",
    "CRITÉRIOS:\n",
    "\n",
    "NÍVEL DE SIGNIFICÂNCIA DE 0,05 ou 5% (MAIS UTILIZADO)\n",
    "\n",
    "QUANDO p > 0,05 (distribuição normal)."
   ]
  },
  {
   "cell_type": "code",
   "execution_count": null,
   "metadata": {
    "id": "fGuhZuEbH4ld"
   },
   "outputs": [],
   "source": [
    "import scipy.stats as stats"
   ]
  },
  {
   "cell_type": "code",
   "execution_count": null,
   "metadata": {
    "id": "OS7iXb1mCo5y"
   },
   "outputs": [],
   "source": [
    "diferenca1 = colegioy.NOTA_REDACAO - colegioy.COMP1"
   ]
  },
  {
   "cell_type": "code",
   "execution_count": null,
   "metadata": {
    "id": "UwCwK1uVITOD"
   },
   "outputs": [],
   "source": [
    "diferenca2 = colegioy.NOTA_REDACAO - colegioy.COMP2"
   ]
  },
  {
   "cell_type": "code",
   "execution_count": null,
   "metadata": {
    "id": "G3wnyla8IcQb"
   },
   "outputs": [],
   "source": [
    "diferenca3 = colegioy.NOTA_REDACAO - colegioy.COMP3"
   ]
  },
  {
   "cell_type": "code",
   "execution_count": null,
   "metadata": {
    "id": "_cQXzOSHIicC"
   },
   "outputs": [],
   "source": [
    "diferenca4 = colegioy.NOTA_REDACAO - colegioy.COMP4"
   ]
  },
  {
   "cell_type": "code",
   "execution_count": null,
   "metadata": {
    "id": "t0zARF3kIk1E"
   },
   "outputs": [],
   "source": [
    "diferenca5 = colegioy.NOTA_REDACAO - colegioy.COMP5"
   ]
  },
  {
   "cell_type": "code",
   "execution_count": null,
   "metadata": {
    "colab": {
     "base_uri": "https://localhost:8080/"
    },
    "id": "s4BKksKtIBk6",
    "outputId": "b8fe5a56-32ca-4e34-c525-501199e2d916"
   },
   "outputs": [],
   "source": [
    "# Teste Shapiro-Wilk\n",
    "stats.shapiro(diferenca2)"
   ]
  },
  {
   "cell_type": "markdown",
   "metadata": {
    "id": "4rmFTSIiiUGV"
   },
   "source": [
    "**TESTE t**\n",
    "\n",
    "Comparação das diferenças das Médias das notas de redação e de seus componentes que passaram no teste de normalidade."
   ]
  },
  {
   "cell_type": "markdown",
   "metadata": {
    "id": "IAnRzT0_xGiN"
   },
   "source": [
    "Ho = NÃO HÁ DIFERENÇA ENTRE AS DIFERENÇAS DAS MÉDIAS DA REDAÇÃO COM OS SEUS COMPONENTES : p > 0.05\n",
    "\n",
    "Ha = HÁ DIFERENÇA ENTRE AS DIFERENÇAS DAS MÉDIAS DA REDAÇÃO COM OS SEUS COMPONENTES : p <= 0.05"
   ]
  },
  {
   "cell_type": "code",
   "execution_count": null,
   "metadata": {
    "id": "vJ9fMU6Sy2bp"
   },
   "outputs": [],
   "source": [
    "import scipy.stats as stats"
   ]
  },
  {
   "cell_type": "code",
   "execution_count": null,
   "metadata": {
    "colab": {
     "base_uri": "https://localhost:8080/"
    },
    "id": "-sVftfgoC9Zk",
    "outputId": "c9fb65e0-bf9e-48bd-e6b2-02898ba3c962"
   },
   "outputs": [],
   "source": [
    "stat, p = stats.ttest_rel(diferenca1, diferenca2)\n",
    "print('Estatística de teste: {}'.format(stat.round(2)))\n",
    "print('p-valor: {}'.format(p.round(10)))"
   ]
  },
  {
   "cell_type": "code",
   "execution_count": null,
   "metadata": {
    "colab": {
     "base_uri": "https://localhost:8080/"
    },
    "id": "e8E8fNJ-Ncn1",
    "outputId": "651f19b5-e043-41f2-9186-f1dbb7346678"
   },
   "outputs": [],
   "source": [
    "diferenca1.mean()"
   ]
  },
  {
   "cell_type": "code",
   "execution_count": null,
   "metadata": {
    "colab": {
     "base_uri": "https://localhost:8080/"
    },
    "id": "SauQ5PM0NfpT",
    "outputId": "0a5b7de8-7667-4db0-9d14-5808a9546f01"
   },
   "outputs": [],
   "source": [
    "diferenca2.mean()"
   ]
  },
  {
   "cell_type": "code",
   "execution_count": null,
   "metadata": {
    "colab": {
     "base_uri": "https://localhost:8080/"
    },
    "id": "05Qcdqv0ZRqI",
    "outputId": "8ec0d6e6-6a41-4f07-8673-9ec37a4c3a2a"
   },
   "outputs": [],
   "source": [
    "stat, p = stats.ttest_rel(colegioy.COMP1, colegioy.COMP2)\n",
    "print('Estatística de teste: {}'.format(stat.round(2)))\n",
    "print('p-valor: {}'.format(p.round(10)))"
   ]
  },
  {
   "cell_type": "markdown",
   "metadata": {
    "id": "RxNwtl6o3d1y"
   },
   "source": [
    "**INTERPRETAÇÃO:**\n",
    "\n",
    "Teste estatístico: 0,17\n",
    "\n",
    "p_valor = 0,869\n",
    "\n",
    "Conclusão: Estatisticamente, com intervalo de confiança de 95%, não há evidências para afirmar que existe diferença na diferença da média entre a redação e os seus componentes 1 e 2 do colegio y. "
   ]
  }
 ],
 "metadata": {
  "colab": {
   "collapsed_sections": [],
   "name": "teste_t_pareado.ipynb",
   "provenance": []
  },
  "kernelspec": {
   "display_name": "Python 3 (ipykernel)",
   "language": "python",
   "name": "python3"
  },
  "language_info": {
   "codemirror_mode": {
    "name": "ipython",
    "version": 3
   },
   "file_extension": ".py",
   "mimetype": "text/x-python",
   "name": "python",
   "nbconvert_exporter": "python",
   "pygments_lexer": "ipython3",
   "version": "3.9.13"
  }
 },
 "nbformat": 4,
 "nbformat_minor": 1
}
