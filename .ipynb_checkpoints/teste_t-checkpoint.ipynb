{
 "cells": [
  {
   "cell_type": "markdown",
   "metadata": {
    "id": "Qt6NFwxO68nL"
   },
   "source": [
    "## **TESTE t PARA UMA AMOSTRA**"
   ]
  },
  {
   "cell_type": "code",
   "execution_count": 4,
   "metadata": {
    "id": "P1k_GEUd62ik"
   },
   "outputs": [],
   "source": [
    "import numpy as np\n",
    "import pandas as pd"
   ]
  },
  {
   "cell_type": "code",
   "execution_count": 5,
   "metadata": {
    "id": "DzMEX3BJoN3u"
   },
   "outputs": [],
   "source": [
    "enem_sp = pd.read_csv(\"C:\\\\Users\\\\amand\\\\Downloads\\\\enem_2019_tratado.csv\",\n",
    "                      sep=',', encoding='iso-8859-1')"
   ]
  },
  {
   "cell_type": "code",
   "execution_count": 6,
   "metadata": {
    "colab": {
     "base_uri": "https://localhost:8080/",
     "height": 232
    },
    "id": "87gu1YCcblfL",
    "outputId": "fa5364a6-d93d-43d6-ea4d-89c9473caca0"
   },
   "outputs": [
    {
     "data": {
      "text/html": [
       "<div>\n",
       "<style scoped>\n",
       "    .dataframe tbody tr th:only-of-type {\n",
       "        vertical-align: middle;\n",
       "    }\n",
       "\n",
       "    .dataframe tbody tr th {\n",
       "        vertical-align: top;\n",
       "    }\n",
       "\n",
       "    .dataframe thead th {\n",
       "        text-align: right;\n",
       "    }\n",
       "</style>\n",
       "<table border=\"1\" class=\"dataframe\">\n",
       "  <thead>\n",
       "    <tr style=\"text-align: right;\">\n",
       "      <th></th>\n",
       "      <th>NU_INSCRICAO</th>\n",
       "      <th>NO_MUNICIPIO_RESIDENCIA</th>\n",
       "      <th>IDADE</th>\n",
       "      <th>SEXO</th>\n",
       "      <th>TP_ESTADO_CIVIL</th>\n",
       "      <th>RACA</th>\n",
       "      <th>TP_NACIONALIDADE</th>\n",
       "      <th>TP_ST_CONCLUSAO</th>\n",
       "      <th>ESCOLA</th>\n",
       "      <th>CO_ESCOLA</th>\n",
       "      <th>...</th>\n",
       "      <th>NOTA_MT</th>\n",
       "      <th>TP_LINGUA</th>\n",
       "      <th>TP_STATUS_REDACAO</th>\n",
       "      <th>COMP1</th>\n",
       "      <th>COMP2</th>\n",
       "      <th>COMP3</th>\n",
       "      <th>COMP4</th>\n",
       "      <th>COMP5</th>\n",
       "      <th>NOTA_REDACAO</th>\n",
       "      <th>INTERNET</th>\n",
       "    </tr>\n",
       "  </thead>\n",
       "  <tbody>\n",
       "    <tr>\n",
       "      <th>0</th>\n",
       "      <td>1,90E+11</td>\n",
       "      <td>Santa Isabel</td>\n",
       "      <td>22</td>\n",
       "      <td>M</td>\n",
       "      <td>1</td>\n",
       "      <td>parda</td>\n",
       "      <td>1</td>\n",
       "      <td>1</td>\n",
       "      <td>não_respondeu</td>\n",
       "      <td>NaN</td>\n",
       "      <td>...</td>\n",
       "      <td>600.2</td>\n",
       "      <td>Inglês</td>\n",
       "      <td>1.0</td>\n",
       "      <td>160.0</td>\n",
       "      <td>200.0</td>\n",
       "      <td>180.0</td>\n",
       "      <td>200.0</td>\n",
       "      <td>200.0</td>\n",
       "      <td>940.0</td>\n",
       "      <td>Sim</td>\n",
       "    </tr>\n",
       "    <tr>\n",
       "      <th>1</th>\n",
       "      <td>1,90E+11</td>\n",
       "      <td>São Paulo</td>\n",
       "      <td>17</td>\n",
       "      <td>F</td>\n",
       "      <td>1</td>\n",
       "      <td>parda</td>\n",
       "      <td>1</td>\n",
       "      <td>2</td>\n",
       "      <td>privada</td>\n",
       "      <td>15567761.0</td>\n",
       "      <td>...</td>\n",
       "      <td>731.8</td>\n",
       "      <td>Inglês</td>\n",
       "      <td>1.0</td>\n",
       "      <td>160.0</td>\n",
       "      <td>120.0</td>\n",
       "      <td>200.0</td>\n",
       "      <td>200.0</td>\n",
       "      <td>200.0</td>\n",
       "      <td>880.0</td>\n",
       "      <td>Não</td>\n",
       "    </tr>\n",
       "    <tr>\n",
       "      <th>2</th>\n",
       "      <td>1,90E+11</td>\n",
       "      <td>São Bernardo do Campo</td>\n",
       "      <td>19</td>\n",
       "      <td>M</td>\n",
       "      <td>1</td>\n",
       "      <td>parda</td>\n",
       "      <td>1</td>\n",
       "      <td>2</td>\n",
       "      <td>pública</td>\n",
       "      <td>35904958.0</td>\n",
       "      <td>...</td>\n",
       "      <td>393.2</td>\n",
       "      <td>Espanhol</td>\n",
       "      <td>1.0</td>\n",
       "      <td>80.0</td>\n",
       "      <td>160.0</td>\n",
       "      <td>120.0</td>\n",
       "      <td>100.0</td>\n",
       "      <td>100.0</td>\n",
       "      <td>560.0</td>\n",
       "      <td>Sim</td>\n",
       "    </tr>\n",
       "    <tr>\n",
       "      <th>3</th>\n",
       "      <td>1,90E+11</td>\n",
       "      <td>Embu-Guaçu</td>\n",
       "      <td>17</td>\n",
       "      <td>F</td>\n",
       "      <td>1</td>\n",
       "      <td>parda</td>\n",
       "      <td>1</td>\n",
       "      <td>2</td>\n",
       "      <td>pública</td>\n",
       "      <td>NaN</td>\n",
       "      <td>...</td>\n",
       "      <td>419.2</td>\n",
       "      <td>Inglês</td>\n",
       "      <td>1.0</td>\n",
       "      <td>120.0</td>\n",
       "      <td>120.0</td>\n",
       "      <td>120.0</td>\n",
       "      <td>120.0</td>\n",
       "      <td>80.0</td>\n",
       "      <td>560.0</td>\n",
       "      <td>Sim</td>\n",
       "    </tr>\n",
       "    <tr>\n",
       "      <th>4</th>\n",
       "      <td>1,90E+11</td>\n",
       "      <td>Guarulhos</td>\n",
       "      <td>23</td>\n",
       "      <td>F</td>\n",
       "      <td>1</td>\n",
       "      <td>branca</td>\n",
       "      <td>1</td>\n",
       "      <td>1</td>\n",
       "      <td>não_respondeu</td>\n",
       "      <td>NaN</td>\n",
       "      <td>...</td>\n",
       "      <td>796.1</td>\n",
       "      <td>Inglês</td>\n",
       "      <td>1.0</td>\n",
       "      <td>160.0</td>\n",
       "      <td>200.0</td>\n",
       "      <td>180.0</td>\n",
       "      <td>180.0</td>\n",
       "      <td>160.0</td>\n",
       "      <td>880.0</td>\n",
       "      <td>Sim</td>\n",
       "    </tr>\n",
       "  </tbody>\n",
       "</table>\n",
       "<p>5 rows × 28 columns</p>\n",
       "</div>"
      ],
      "text/plain": [
       "  NU_INSCRICAO NO_MUNICIPIO_RESIDENCIA  IDADE SEXO  TP_ESTADO_CIVIL    RACA  \\\n",
       "0     1,90E+11            Santa Isabel     22    M                1   parda   \n",
       "1     1,90E+11               São Paulo     17    F                1   parda   \n",
       "2     1,90E+11   São Bernardo do Campo     19    M                1   parda   \n",
       "3     1,90E+11              Embu-Guaçu     17    F                1   parda   \n",
       "4     1,90E+11               Guarulhos     23    F                1  branca   \n",
       "\n",
       "   TP_NACIONALIDADE  TP_ST_CONCLUSAO         ESCOLA   CO_ESCOLA  ... NOTA_MT  \\\n",
       "0                 1                1  não_respondeu         NaN  ...   600.2   \n",
       "1                 1                2        privada  15567761.0  ...   731.8   \n",
       "2                 1                2        pública  35904958.0  ...   393.2   \n",
       "3                 1                2        pública         NaN  ...   419.2   \n",
       "4                 1                1  não_respondeu         NaN  ...   796.1   \n",
       "\n",
       "   TP_LINGUA  TP_STATUS_REDACAO  COMP1  COMP2  COMP3  COMP4  COMP5  \\\n",
       "0     Inglês                1.0  160.0  200.0  180.0  200.0  200.0   \n",
       "1     Inglês                1.0  160.0  120.0  200.0  200.0  200.0   \n",
       "2   Espanhol                1.0   80.0  160.0  120.0  100.0  100.0   \n",
       "3     Inglês                1.0  120.0  120.0  120.0  120.0   80.0   \n",
       "4     Inglês                1.0  160.0  200.0  180.0  180.0  160.0   \n",
       "\n",
       "   NOTA_REDACAO INTERNET  \n",
       "0         940.0      Sim  \n",
       "1         880.0      Não  \n",
       "2         560.0      Sim  \n",
       "3         560.0      Sim  \n",
       "4         880.0      Sim  \n",
       "\n",
       "[5 rows x 28 columns]"
      ]
     },
     "execution_count": 6,
     "metadata": {},
     "output_type": "execute_result"
    }
   ],
   "source": [
    "enem_sp.head()"
   ]
  },
  {
   "cell_type": "code",
   "execution_count": null,
   "metadata": {
    "id": "QjUHhWqFoVG4"
   },
   "outputs": [],
   "source": [
    "colegioy = enem_sp.loc[enem_sp.CO_ESCOLA == 35151506.0]"
   ]
  },
  {
   "cell_type": "code",
   "execution_count": null,
   "metadata": {
    "colab": {
     "base_uri": "https://localhost:8080/"
    },
    "id": "ro1T9FRnoz3u",
    "outputId": "f8869266-757e-4cfd-cd45-15e5014f6dec"
   },
   "outputs": [],
   "source": [
    "colegioy.shape"
   ]
  },
  {
   "cell_type": "code",
   "execution_count": null,
   "metadata": {
    "colab": {
     "base_uri": "https://localhost:8080/",
     "height": 215
    },
    "id": "5AYuP9cMcRhz",
    "outputId": "39e17f82-332a-4261-fe30-90e4e7759b42"
   },
   "outputs": [],
   "source": [
    "colegioy.head()"
   ]
  },
  {
   "cell_type": "markdown",
   "metadata": {
    "id": "CBuFd2yGfSMP"
   },
   "source": [
    "1) Analisar a classificação das variáveis"
   ]
  },
  {
   "cell_type": "code",
   "execution_count": null,
   "metadata": {
    "colab": {
     "base_uri": "https://localhost:8080/"
    },
    "id": "VZfjhBVufRdz",
    "outputId": "7978b2e3-9782-489f-f3b9-7a7b26e0e676"
   },
   "outputs": [],
   "source": [
    "colegioy.dtypes"
   ]
  },
  {
   "cell_type": "markdown",
   "metadata": {
    "id": "6pMJjefKgP8u"
   },
   "source": [
    "2) Analisar valores missing"
   ]
  },
  {
   "cell_type": "code",
   "execution_count": null,
   "metadata": {
    "colab": {
     "base_uri": "https://localhost:8080/"
    },
    "id": "Jk34lwvkgTdy",
    "outputId": "787502dd-2eaa-4f9d-9338-e80132ae9662"
   },
   "outputs": [],
   "source": [
    "colegioy.isnull().sum()"
   ]
  },
  {
   "cell_type": "markdown",
   "metadata": {
    "id": "Gp-LFhhXgxNo"
   },
   "source": [
    "3) Analisar outliers"
   ]
  },
  {
   "cell_type": "code",
   "execution_count": null,
   "metadata": {
    "id": "iVl4Du_PgwjE"
   },
   "outputs": [],
   "source": [
    "import plotly.express as px"
   ]
  },
  {
   "cell_type": "code",
   "execution_count": null,
   "metadata": {
    "colab": {
     "base_uri": "https://localhost:8080/",
     "height": 542
    },
    "id": "TL5yjLWKhH4c",
    "outputId": "16c86dac-728e-420a-b282-33bce4b7c2db"
   },
   "outputs": [],
   "source": [
    "grafico = px.box(colegioy, y=\"NOTA_REDACAO\")\n",
    "grafico.show()"
   ]
  },
  {
   "cell_type": "markdown",
   "metadata": {
    "id": "KSbhsCFohR9O"
   },
   "source": [
    "4) Analisar Normalidade"
   ]
  },
  {
   "cell_type": "code",
   "execution_count": null,
   "metadata": {
    "colab": {
     "base_uri": "https://localhost:8080/",
     "height": 280
    },
    "id": "UZhguR7Qiy5Q",
    "outputId": "c501e202-2302-4e21-a2b1-0371333497dd"
   },
   "outputs": [],
   "source": [
    "import seaborn as sns\n",
    "sns.histplot(colegioy, x='NOTA_REDACAO', bins=10, color=\"orange\", kde=True, stat=\"probability\");"
   ]
  },
  {
   "cell_type": "code",
   "execution_count": null,
   "metadata": {
    "id": "89NBIIl9jHFZ"
   },
   "outputs": [],
   "source": [
    "import scipy.stats as stats\n",
    "import matplotlib.pyplot as plt"
   ]
  },
  {
   "cell_type": "code",
   "execution_count": null,
   "metadata": {
    "colab": {
     "base_uri": "https://localhost:8080/",
     "height": 295
    },
    "id": "C8sjAI4tjQaW",
    "outputId": "befa2b9a-a3c4-450d-b67d-8cf35bf6ab62"
   },
   "outputs": [],
   "source": [
    "stats.probplot(colegioy['NOTA_REDACAO'], dist=\"norm\", plot=plt)\n",
    "plt.title(\"Normal QQ plot\")\n",
    "plt.show()"
   ]
  },
  {
   "cell_type": "markdown",
   "metadata": {
    "id": "Y7ax_KNLh_3F"
   },
   "source": [
    "CRITÉRIOS:\n",
    "\n",
    "NÍVEL DE SIGNIFICÂNCIA DE 0,05 ou 5% (MAIS UTILIZADO)\n",
    "\n",
    "QUANDO p > 0,05 (distribuição normal)."
   ]
  },
  {
   "cell_type": "code",
   "execution_count": null,
   "metadata": {
    "colab": {
     "base_uri": "https://localhost:8080/"
    },
    "id": "uAwCqFApomAk",
    "outputId": "06f28d66-7fb7-4aaf-84ec-534cbdc584dc"
   },
   "outputs": [],
   "source": [
    "# Teste Shapiro-Wilk\n",
    "stats.shapiro(colegioy.NOTA_REDACAO)"
   ]
  },
  {
   "cell_type": "code",
   "execution_count": null,
   "metadata": {
    "colab": {
     "base_uri": "https://localhost:8080/"
    },
    "id": "WuMuvFNkmJ9A",
    "outputId": "ebf39975-5ad7-436c-e10b-a1e8fb0072c4"
   },
   "outputs": [],
   "source": [
    "import statsmodels\n",
    "from statsmodels.stats.diagnostic import lilliefors"
   ]
  },
  {
   "cell_type": "code",
   "execution_count": null,
   "metadata": {
    "colab": {
     "base_uri": "https://localhost:8080/"
    },
    "id": "XtO7hcxHk-_6",
    "outputId": "a35b4281-e6f4-4351-ff04-5b605751a3f7"
   },
   "outputs": [],
   "source": [
    "# Teste Lilliefors (Kolmogorov_Sminorv)\n",
    "statsmodels.stats.diagnostic.lilliefors(colegioy.NOTA_REDACAO, dist = 'norm')"
   ]
  },
  {
   "cell_type": "code",
   "execution_count": null,
   "metadata": {
    "colab": {
     "base_uri": "https://localhost:8080/"
    },
    "id": "0oUP5WgbjqM2",
    "outputId": "5bffd9da-508d-4349-c612-421a35ecba40"
   },
   "outputs": [],
   "source": [
    "# Teste Anderson-Darling\n",
    "stats.anderson(colegioy.NOTA_REDACAO, 'norm')"
   ]
  },
  {
   "cell_type": "markdown",
   "metadata": {
    "id": "4rmFTSIiiUGV"
   },
   "source": [
    "**TESTE t**\n",
    "\n",
    "Média das notas do colégio Y, comparada a média do Estado de São Paulo."
   ]
  },
  {
   "cell_type": "markdown",
   "metadata": {
    "id": "IAnRzT0_xGiN"
   },
   "source": [
    "Ho = média é igual a de São Paulo : p > 0.05\n",
    "\n",
    "Ha = média é diferente da de São Paulo : p <= 0.05"
   ]
  },
  {
   "cell_type": "code",
   "execution_count": null,
   "metadata": {
    "colab": {
     "base_uri": "https://localhost:8080/"
    },
    "id": "UayD_YpcszlW",
    "outputId": "fdb1328b-2095-46f1-cc81-da2152355263"
   },
   "outputs": [],
   "source": [
    "enem_sp.NOTA_REDACAO.describe()"
   ]
  },
  {
   "cell_type": "code",
   "execution_count": null,
   "metadata": {
    "id": "vJ9fMU6Sy2bp"
   },
   "outputs": [],
   "source": [
    "import scipy.stats as stats"
   ]
  },
  {
   "cell_type": "code",
   "execution_count": null,
   "metadata": {
    "colab": {
     "base_uri": "https://localhost:8080/"
    },
    "id": "f4Owd2zjccOM",
    "outputId": "775c7ef3-7669-4e7b-cb37-8babc45105e6"
   },
   "outputs": [],
   "source": [
    "stat, p = stats.ttest_1samp(colegioy['NOTA_REDACAO'], popmean=593.018)\n",
    "print('Estatística de teste: {}'.format(stat.round(2)))\n",
    "print('p-valor: {}'.format(p.round(10)))"
   ]
  },
  {
   "cell_type": "code",
   "execution_count": null,
   "metadata": {
    "colab": {
     "base_uri": "https://localhost:8080/"
    },
    "id": "jZ4-NBl5utSZ",
    "outputId": "e3afdae4-9d6f-4801-cbc9-5dde09473c88"
   },
   "outputs": [],
   "source": [
    "colegioy.NOTA_REDACAO.describe()"
   ]
  },
  {
   "cell_type": "markdown",
   "metadata": {
    "id": "Oanhqgecveuo"
   },
   "source": [
    "**INTERPRETAÇÃO:**\n",
    "\n",
    "Teste estatístico: t = 7,18\n",
    "\n",
    "p_valor = 6.72e-08\n",
    "\n",
    "Conclusão: Estatisticamente, a média de redação do colégio y é diferente da média do Estado de São Paulo, com intervalo de confiança de 95%.\n",
    "\n"
   ]
  }
 ],
 "metadata": {
  "colab": {
   "collapsed_sections": [],
   "name": "teste_t.ipynb",
   "provenance": []
  },
  "kernelspec": {
   "display_name": "Python 3 (ipykernel)",
   "language": "python",
   "name": "python3"
  },
  "language_info": {
   "codemirror_mode": {
    "name": "ipython",
    "version": 3
   },
   "file_extension": ".py",
   "mimetype": "text/x-python",
   "name": "python",
   "nbconvert_exporter": "python",
   "pygments_lexer": "ipython3",
   "version": "3.9.13"
  }
 },
 "nbformat": 4,
 "nbformat_minor": 1
}
