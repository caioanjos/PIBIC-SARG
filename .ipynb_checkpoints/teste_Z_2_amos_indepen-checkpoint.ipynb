{
 "cells": [
  {
   "cell_type": "markdown",
   "metadata": {
    "id": "Qt6NFwxO68nL"
   },
   "source": [
    "## TESTE Z para duas amostras independentes "
   ]
  },
  {
   "cell_type": "markdown",
   "metadata": {
    "id": "vB_V4a2EAIKe"
   },
   "source": [
    "Número de amostras maior ou igual a 30.\n",
    "\n",
    "Necessita conhecimento do desvio padrão."
   ]
  },
  {
   "cell_type": "code",
   "execution_count": null,
   "metadata": {
    "id": "P1k_GEUd62ik"
   },
   "outputs": [],
   "source": [
    "import numpy as np\n",
    "import pandas as pd"
   ]
  },
  {
   "cell_type": "code",
   "execution_count": null,
   "metadata": {
    "id": "DzMEX3BJoN3u"
   },
   "outputs": [],
   "source": [
    "enem_sp = pd.read_csv(\"C:\\\\Users\\\\amand\\\\Downloads\\\\enem_2019_tratado.csv\",\n",
    "                      sep=',', encoding='iso-8859-1')"
   ]
  },
  {
   "cell_type": "code",
   "execution_count": null,
   "metadata": {
    "colab": {
     "base_uri": "https://localhost:8080/",
     "height": 232
    },
    "id": "87gu1YCcblfL",
    "outputId": "57262194-6647-4776-85f7-7c85a3fb6466"
   },
   "outputs": [],
   "source": [
    "enem_sp.head()"
   ]
  },
  {
   "cell_type": "markdown",
   "metadata": {
    "id": "4aVRAjCFS3pr"
   },
   "source": [
    "Objetivo:\n",
    "Analisar a diferença entre as médias de mulheres e homens para a nota de um dos componentes de redação do colégio x.\n",
    "\n",
    "\n",
    "\n",
    "\n"
   ]
  },
  {
   "cell_type": "code",
   "execution_count": null,
   "metadata": {
    "id": "QjUHhWqFoVG4"
   },
   "outputs": [],
   "source": [
    "colegiox = enem_sp.loc[enem_sp.CO_ESCOLA == 35017632.0]"
   ]
  },
  {
   "cell_type": "code",
   "execution_count": null,
   "metadata": {
    "colab": {
     "base_uri": "https://localhost:8080/"
    },
    "id": "ro1T9FRnoz3u",
    "outputId": "d97d97ee-641a-4994-bd8f-ac53227c0aa4"
   },
   "outputs": [],
   "source": [
    "colegiox.shape"
   ]
  },
  {
   "cell_type": "code",
   "execution_count": null,
   "metadata": {
    "colab": {
     "base_uri": "https://localhost:8080/",
     "height": 215
    },
    "id": "5AYuP9cMcRhz",
    "outputId": "b0c162f7-172f-4a7c-9144-b029de24ee1c"
   },
   "outputs": [],
   "source": [
    "colegiox.head()"
   ]
  },
  {
   "cell_type": "code",
   "execution_count": null,
   "metadata": {
    "id": "7HcLoxuXcGK6"
   },
   "outputs": [],
   "source": [
    "colegiox_mulher = colegiox.loc[colegiox.SEXO == 'F']"
   ]
  },
  {
   "cell_type": "code",
   "execution_count": null,
   "metadata": {
    "colab": {
     "base_uri": "https://localhost:8080/",
     "height": 215
    },
    "id": "g5TVch2lcWJl",
    "outputId": "914552ff-b5ec-4311-a9c0-943f18ab4140"
   },
   "outputs": [],
   "source": [
    "colegiox_mulher.head()"
   ]
  },
  {
   "cell_type": "code",
   "execution_count": null,
   "metadata": {
    "colab": {
     "base_uri": "https://localhost:8080/"
    },
    "id": "fvWfdFHscaK1",
    "outputId": "f2902720-232e-407b-a7e2-a041383c44cf"
   },
   "outputs": [],
   "source": [
    "colegiox_mulher.shape"
   ]
  },
  {
   "cell_type": "code",
   "execution_count": null,
   "metadata": {
    "id": "KSsHF6wuce13"
   },
   "outputs": [],
   "source": [
    "colegiox_homem = colegiox.loc[colegiox.SEXO == 'M']"
   ]
  },
  {
   "cell_type": "code",
   "execution_count": null,
   "metadata": {
    "colab": {
     "base_uri": "https://localhost:8080/"
    },
    "id": "IBXrsfjGcp7X",
    "outputId": "f6d8326c-e37b-4956-fa68-3406358a1d40"
   },
   "outputs": [],
   "source": [
    "colegiox_homem.shape"
   ]
  },
  {
   "cell_type": "code",
   "execution_count": null,
   "metadata": {
    "colab": {
     "base_uri": "https://localhost:8080/",
     "height": 215
    },
    "id": "byotyiXRckqH",
    "outputId": "da434668-c262-4234-eae2-fb6987bf8c0b"
   },
   "outputs": [],
   "source": [
    "colegiox_homem.head()"
   ]
  },
  {
   "cell_type": "markdown",
   "metadata": {
    "id": "CBuFd2yGfSMP"
   },
   "source": [
    "1) Analisar a classificação das variáveis"
   ]
  },
  {
   "cell_type": "code",
   "execution_count": null,
   "metadata": {
    "colab": {
     "base_uri": "https://localhost:8080/"
    },
    "id": "VZfjhBVufRdz",
    "outputId": "5c78dc65-2369-4425-dd72-5bd51c222f1c"
   },
   "outputs": [],
   "source": [
    "colegiox.dtypes"
   ]
  },
  {
   "cell_type": "markdown",
   "metadata": {
    "id": "6pMJjefKgP8u"
   },
   "source": [
    "2) Analisar valores missing"
   ]
  },
  {
   "cell_type": "code",
   "execution_count": null,
   "metadata": {
    "colab": {
     "base_uri": "https://localhost:8080/"
    },
    "id": "Jk34lwvkgTdy",
    "outputId": "47ab7745-9433-4f5e-fa07-645aabb86bd0"
   },
   "outputs": [],
   "source": [
    "colegiox.isnull().sum()"
   ]
  },
  {
   "cell_type": "markdown",
   "metadata": {
    "id": "Gp-LFhhXgxNo"
   },
   "source": [
    "3) Analisar outliers"
   ]
  },
  {
   "cell_type": "code",
   "execution_count": null,
   "metadata": {
    "id": "iVl4Du_PgwjE"
   },
   "outputs": [],
   "source": [
    "import plotly.express as px"
   ]
  },
  {
   "cell_type": "code",
   "execution_count": null,
   "metadata": {
    "colab": {
     "base_uri": "https://localhost:8080/",
     "height": 542
    },
    "id": "TL5yjLWKhH4c",
    "outputId": "f98e29c9-b80b-4efb-e610-1ddfcdebb218"
   },
   "outputs": [],
   "source": [
    "grafico = px.box(colegiox_mulher, y=\"COMP5\")\n",
    "grafico.show()"
   ]
  },
  {
   "cell_type": "code",
   "execution_count": null,
   "metadata": {
    "colab": {
     "base_uri": "https://localhost:8080/",
     "height": 542
    },
    "id": "bXm2bUmpvGxw",
    "outputId": "3ee0160e-450a-49b8-9ad6-759fcaac9191"
   },
   "outputs": [],
   "source": [
    "grafico = px.box(colegiox_homem, y=\"COMP5\")\n",
    "grafico.show()"
   ]
  },
  {
   "cell_type": "markdown",
   "metadata": {
    "id": "KSbhsCFohR9O"
   },
   "source": [
    "4) Analisar Normalidade"
   ]
  },
  {
   "cell_type": "markdown",
   "metadata": {
    "id": "Y7ax_KNLh_3F"
   },
   "source": [
    "CRITÉRIOS:\n",
    "\n",
    "NÍVEL DE SIGNIFICÂNCIA DE 0,05 ou 5% (MAIS UTILIZADO)\n",
    "\n",
    "QUANDO p > 0,05 (distribuição normal)."
   ]
  },
  {
   "cell_type": "code",
   "execution_count": null,
   "metadata": {
    "id": "fGuhZuEbH4ld"
   },
   "outputs": [],
   "source": [
    "import scipy.stats as stats"
   ]
  },
  {
   "cell_type": "code",
   "execution_count": null,
   "metadata": {
    "colab": {
     "base_uri": "https://localhost:8080/"
    },
    "id": "uAwCqFApomAk",
    "outputId": "adc79c89-f3a3-4a15-e408-c90e66a9b512"
   },
   "outputs": [],
   "source": [
    "# Teste Shapiro-Wilk\n",
    "stats.shapiro(colegiox_mulher.COMP5)"
   ]
  },
  {
   "cell_type": "code",
   "execution_count": null,
   "metadata": {
    "colab": {
     "base_uri": "https://localhost:8080/"
    },
    "id": "w9oVvHkVdqV2",
    "outputId": "eb933520-aafe-410e-ccac-ed41434347dd"
   },
   "outputs": [],
   "source": [
    "# Teste Shapiro-Wilk\n",
    "stats.shapiro(colegiox_homem.COMP5)"
   ]
  },
  {
   "cell_type": "code",
   "execution_count": null,
   "metadata": {
    "colab": {
     "base_uri": "https://localhost:8080/",
     "height": 279
    },
    "id": "UZhguR7Qiy5Q",
    "outputId": "a41a6810-ad76-4da1-85b8-154361b0ba8b"
   },
   "outputs": [],
   "source": [
    "import seaborn as sns\n",
    "sns.histplot(colegiox_mulher, x='COMP5', bins=6, color=\"red\", kde=True, stat=\"probability\");"
   ]
  },
  {
   "cell_type": "code",
   "execution_count": null,
   "metadata": {
    "colab": {
     "base_uri": "https://localhost:8080/",
     "height": 281
    },
    "id": "jGcVEGjJvNV1",
    "outputId": "a2f8fb83-e4c0-4b76-a9a9-25a7afc723f5"
   },
   "outputs": [],
   "source": [
    "sns.histplot(colegiox_homem, x='COMP5', bins=4, color=\"green\", kde=True, stat=\"probability\");"
   ]
  },
  {
   "cell_type": "code",
   "execution_count": null,
   "metadata": {
    "id": "89NBIIl9jHFZ"
   },
   "outputs": [],
   "source": [
    "import scipy.stats as stats\n",
    "import matplotlib.pyplot as plt"
   ]
  },
  {
   "cell_type": "code",
   "execution_count": null,
   "metadata": {
    "colab": {
     "base_uri": "https://localhost:8080/",
     "height": 295
    },
    "id": "C8sjAI4tjQaW",
    "outputId": "f7271596-8290-48aa-a5f7-875c9d364119"
   },
   "outputs": [],
   "source": [
    "stats.probplot(colegiox_mulher['COMP5'], dist=\"norm\", plot=plt)\n",
    "plt.title(\"Normal QQ plot\")\n",
    "plt.show()"
   ]
  },
  {
   "cell_type": "code",
   "execution_count": null,
   "metadata": {
    "colab": {
     "base_uri": "https://localhost:8080/",
     "height": 295
    },
    "id": "T4IIcC9cfAw0",
    "outputId": "f4d625ec-7454-4ba9-9ccc-e4df72fc269f"
   },
   "outputs": [],
   "source": [
    "stats.probplot(colegiox_homem['COMP5'], dist=\"norm\", plot=plt)\n",
    "plt.title(\"Normal QQ plot\")\n",
    "plt.show()"
   ]
  },
  {
   "cell_type": "markdown",
   "metadata": {
    "id": "OC_jCCbr3Dmf"
   },
   "source": [
    "5) HOMOGENEIDADE DAS VARIÂNCIAS (HOMOCEDASTICIDADE)\n",
    "\n",
    "Variabilidade dos erros constante."
   ]
  },
  {
   "cell_type": "markdown",
   "metadata": {
    "id": "iJ4KW8YK3RKE"
   },
   "source": [
    "Ho = variâncias homogêneas : p > 0.05\n",
    "\n",
    "Ha = variâncias não homogêneas : p <= 0.05"
   ]
  },
  {
   "cell_type": "code",
   "execution_count": null,
   "metadata": {
    "id": "NlU2PELGzi2t"
   },
   "outputs": [],
   "source": [
    "# teste de Levene\n",
    "from scipy.stats import levene"
   ]
  },
  {
   "cell_type": "code",
   "execution_count": null,
   "metadata": {
    "colab": {
     "base_uri": "https://localhost:8080/"
    },
    "id": "Gy5flz0GzVoN",
    "outputId": "2b80409f-7227-4c97-eeac-21ec7f8c21c0"
   },
   "outputs": [],
   "source": [
    "stat, p = levene(colegiox_mulher.COMP5, colegiox_homem.COMP5, center='mean')\n",
    "print('Estatística de teste: {}'.format(stat.round(2)))\n",
    "print('p-valor: {}'.format(p.round(10)))"
   ]
  },
  {
   "cell_type": "markdown",
   "metadata": {
    "id": "4rmFTSIiiUGV"
   },
   "source": [
    "**TESTE Z para duas amostras independentes**\n",
    "\n",
    "Comparação das Médias das notas do componente 5 da redação entre homens e mulheres do colégio X."
   ]
  },
  {
   "cell_type": "markdown",
   "metadata": {
    "id": "IAnRzT0_xGiN"
   },
   "source": [
    "Ho = NÃO HÁ DIFERENÇA ENTRE AS MÉDIAS ENTRE HOMENS E MULHERES : p > 0.05\n",
    "\n",
    "Ha = HÁ DIFERENÇA ENTRE AS MÉDIAS ENTRE HOMENS E MULHERES : p <= 0.05"
   ]
  },
  {
   "cell_type": "code",
   "execution_count": null,
   "metadata": {
    "colab": {
     "base_uri": "https://localhost:8080/"
    },
    "id": "vJ9fMU6Sy2bp",
    "outputId": "37ecab16-9e7c-4a72-fdae-144d12baf67c"
   },
   "outputs": [],
   "source": [
    "from statsmodels.stats.weightstats import ztest"
   ]
  },
  {
   "cell_type": "code",
   "execution_count": null,
   "metadata": {
    "colab": {
     "base_uri": "https://localhost:8080/"
    },
    "id": "QgeATvp6f8A8",
    "outputId": "4a0b1e4c-ea25-48ee-a22d-2592db80d9b4"
   },
   "outputs": [],
   "source": [
    "stat, p = ztest(colegiox_mulher.COMP5, colegiox_homem.COMP5)\n",
    "print('Estatística de teste: {}'.format(stat.round(2)))\n",
    "print('p-valor: {}'.format(p))"
   ]
  },
  {
   "cell_type": "code",
   "execution_count": null,
   "metadata": {
    "colab": {
     "base_uri": "https://localhost:8080/"
    },
    "id": "FzR1rSkSgGwY",
    "outputId": "629bb1b3-5f10-4e84-b787-6f4d8f8e4053"
   },
   "outputs": [],
   "source": [
    "colegiox_mulher.COMP5.describe()"
   ]
  },
  {
   "cell_type": "code",
   "execution_count": null,
   "metadata": {
    "colab": {
     "base_uri": "https://localhost:8080/"
    },
    "id": "tDPmHRt_gfQ8",
    "outputId": "2cc44345-2513-4bd7-ec73-cc50f4be76a9"
   },
   "outputs": [],
   "source": [
    "colegiox_homem.COMP5.describe()"
   ]
  },
  {
   "cell_type": "markdown",
   "metadata": {
    "id": "Oanhqgecveuo"
   },
   "source": [
    "**INTERPRETAÇÃO:**\n",
    "\n",
    "Teste estatístico: 0,96\n",
    "\n",
    "p_valor = 0,339\n",
    "\n",
    "Conclusão: Estatisticamente, com intervalo de confiança de 95%, não se pode concluir que a média do componente 5 de redação do colegio X seja diferente entre homens e mulheres.\n",
    "\n"
   ]
  }
 ],
 "metadata": {
  "colab": {
   "collapsed_sections": [],
   "name": "teste_Z_2_amos_indepen.ipynb",
   "provenance": []
  },
  "kernelspec": {
   "display_name": "Python 3 (ipykernel)",
   "language": "python",
   "name": "python3"
  },
  "language_info": {
   "codemirror_mode": {
    "name": "ipython",
    "version": 3
   },
   "file_extension": ".py",
   "mimetype": "text/x-python",
   "name": "python",
   "nbconvert_exporter": "python",
   "pygments_lexer": "ipython3",
   "version": "3.9.13"
  }
 },
 "nbformat": 4,
 "nbformat_minor": 1
}
