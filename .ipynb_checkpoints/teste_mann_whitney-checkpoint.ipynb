{
 "cells": [
  {
   "cell_type": "markdown",
   "metadata": {
    "id": "Qt6NFwxO68nL"
   },
   "source": [
    "## TESTE MANN WHITNEY (soma de postos de Wilcoxon) "
   ]
  },
  {
   "cell_type": "markdown",
   "metadata": {
    "id": "vB_V4a2EAIKe"
   },
   "source": [
    "Teste Não paramétrico\n",
    "\n",
    "Duas amostras independentes \n"
   ]
  },
  {
   "cell_type": "code",
   "execution_count": null,
   "metadata": {
    "id": "P1k_GEUd62ik"
   },
   "outputs": [],
   "source": [
    "import numpy as np\n",
    "import pandas as pd"
   ]
  },
  {
   "cell_type": "code",
   "execution_count": null,
   "metadata": {
    "id": "DzMEX3BJoN3u"
   },
   "outputs": [],
   "source": [
    "enem_sp = pd.read_csv(\"C:\\\\Users\\\\amand\\\\Downloads\\\\enem_2019_tratado.csv\",\n",
    "                      sep=',', encoding='iso-8859-1')"
   ]
  },
  {
   "cell_type": "code",
   "execution_count": null,
   "metadata": {
    "colab": {
     "base_uri": "https://localhost:8080/",
     "height": 232
    },
    "id": "87gu1YCcblfL",
    "outputId": "b76713c2-9c71-4a22-b914-1175336665d3"
   },
   "outputs": [],
   "source": [
    "enem_sp.head()"
   ]
  },
  {
   "cell_type": "markdown",
   "metadata": {
    "id": "4aVRAjCFS3pr"
   },
   "source": [
    "Objetivo:\n",
    "Analisar a diferença entre as MEDIANAS de mulheres e homens para as notas do colégio x.\n",
    "\n",
    "\n",
    "\n",
    "\n"
   ]
  },
  {
   "cell_type": "code",
   "execution_count": null,
   "metadata": {
    "id": "QjUHhWqFoVG4"
   },
   "outputs": [],
   "source": [
    "colegiox = enem_sp.loc[enem_sp.CO_ESCOLA == 35017632.0]"
   ]
  },
  {
   "cell_type": "code",
   "execution_count": null,
   "metadata": {
    "colab": {
     "base_uri": "https://localhost:8080/"
    },
    "id": "ro1T9FRnoz3u",
    "outputId": "2be77fa7-2ebf-468e-8237-a4d4c341bf5a"
   },
   "outputs": [],
   "source": [
    "colegiox.shape"
   ]
  },
  {
   "cell_type": "code",
   "execution_count": null,
   "metadata": {
    "colab": {
     "base_uri": "https://localhost:8080/",
     "height": 215
    },
    "id": "5AYuP9cMcRhz",
    "outputId": "2cd68f84-2c21-4913-cb90-d65eb8a90128"
   },
   "outputs": [],
   "source": [
    "colegiox.head()"
   ]
  },
  {
   "cell_type": "code",
   "execution_count": null,
   "metadata": {
    "id": "7HcLoxuXcGK6"
   },
   "outputs": [],
   "source": [
    "colegiox_mulher = colegiox.loc[colegiox.SEXO == 'F']"
   ]
  },
  {
   "cell_type": "code",
   "execution_count": null,
   "metadata": {
    "colab": {
     "base_uri": "https://localhost:8080/",
     "height": 215
    },
    "id": "g5TVch2lcWJl",
    "outputId": "097de7ca-7b14-41eb-9299-361062da0033"
   },
   "outputs": [],
   "source": [
    "colegiox_mulher.head()"
   ]
  },
  {
   "cell_type": "code",
   "execution_count": null,
   "metadata": {
    "colab": {
     "base_uri": "https://localhost:8080/"
    },
    "id": "fvWfdFHscaK1",
    "outputId": "d321c3df-6717-447d-8326-1fb62ffab212"
   },
   "outputs": [],
   "source": [
    "colegiox_mulher.shape"
   ]
  },
  {
   "cell_type": "code",
   "execution_count": null,
   "metadata": {
    "id": "KSsHF6wuce13"
   },
   "outputs": [],
   "source": [
    "colegiox_homem = colegiox.loc[colegiox.SEXO == 'M']"
   ]
  },
  {
   "cell_type": "code",
   "execution_count": null,
   "metadata": {
    "colab": {
     "base_uri": "https://localhost:8080/"
    },
    "id": "IBXrsfjGcp7X",
    "outputId": "fe879ea9-28ce-411c-9769-405d5666d2bd"
   },
   "outputs": [],
   "source": [
    "colegiox_homem.shape"
   ]
  },
  {
   "cell_type": "code",
   "execution_count": null,
   "metadata": {
    "colab": {
     "base_uri": "https://localhost:8080/",
     "height": 215
    },
    "id": "byotyiXRckqH",
    "outputId": "1ec483da-6ec2-4907-be92-20504f3f539f"
   },
   "outputs": [],
   "source": [
    "colegiox_homem.head()"
   ]
  },
  {
   "cell_type": "markdown",
   "metadata": {
    "id": "CBuFd2yGfSMP"
   },
   "source": [
    "1) Analisar a classificação das variáveis"
   ]
  },
  {
   "cell_type": "code",
   "execution_count": null,
   "metadata": {
    "colab": {
     "base_uri": "https://localhost:8080/"
    },
    "id": "VZfjhBVufRdz",
    "outputId": "2e23935d-d8ae-4d01-fabf-37dd69a5be25"
   },
   "outputs": [],
   "source": [
    "colegiox.dtypes"
   ]
  },
  {
   "cell_type": "markdown",
   "metadata": {
    "id": "6pMJjefKgP8u"
   },
   "source": [
    "2) Analisar valores missing"
   ]
  },
  {
   "cell_type": "code",
   "execution_count": null,
   "metadata": {
    "colab": {
     "base_uri": "https://localhost:8080/"
    },
    "id": "Jk34lwvkgTdy",
    "outputId": "d3de2d38-9495-439f-f029-c0cf4d0f91e5"
   },
   "outputs": [],
   "source": [
    "colegiox.isnull().sum()"
   ]
  },
  {
   "cell_type": "markdown",
   "metadata": {
    "id": "KSbhsCFohR9O"
   },
   "source": [
    "3) Analisar Normalidade"
   ]
  },
  {
   "cell_type": "markdown",
   "metadata": {
    "id": "Y7ax_KNLh_3F"
   },
   "source": [
    "CRITÉRIOS:\n",
    "\n",
    "NÍVEL DE SIGNIFICÂNCIA DE 0,05 ou 5% (MAIS UTILIZADO)\n",
    "\n",
    "QUANDO p > 0,05 (distribuição normal)."
   ]
  },
  {
   "cell_type": "code",
   "execution_count": null,
   "metadata": {
    "id": "fGuhZuEbH4ld"
   },
   "outputs": [],
   "source": [
    "import scipy.stats as stats"
   ]
  },
  {
   "cell_type": "code",
   "execution_count": null,
   "metadata": {
    "id": "89NBIIl9jHFZ"
   },
   "outputs": [],
   "source": [
    "import matplotlib.pyplot as plt"
   ]
  },
  {
   "cell_type": "code",
   "execution_count": null,
   "metadata": {
    "colab": {
     "base_uri": "https://localhost:8080/"
    },
    "id": "uAwCqFApomAk",
    "outputId": "0e1326a3-d901-4f90-e983-a1f17a9ec699"
   },
   "outputs": [],
   "source": [
    "# Teste Shapiro-Wilk - MATEMÁTICA\n",
    "stats.shapiro(colegiox_mulher.NOTA_MT)"
   ]
  },
  {
   "cell_type": "code",
   "execution_count": null,
   "metadata": {
    "colab": {
     "base_uri": "https://localhost:8080/",
     "height": 295
    },
    "id": "C8sjAI4tjQaW",
    "outputId": "01ba631c-f3c9-4fb4-84b0-28895c0bea0b"
   },
   "outputs": [],
   "source": [
    "stats.probplot(colegiox_mulher['NOTA_MT'], dist=\"norm\", plot=plt)\n",
    "plt.title(\"Normal QQ plot\")\n",
    "plt.show()"
   ]
  },
  {
   "cell_type": "code",
   "execution_count": null,
   "metadata": {
    "colab": {
     "base_uri": "https://localhost:8080/"
    },
    "id": "w9oVvHkVdqV2",
    "outputId": "362c64a8-f518-45d1-cc0c-096ee7331b2b"
   },
   "outputs": [],
   "source": [
    "stats.shapiro(colegiox_homem.NOTA_MT)"
   ]
  },
  {
   "cell_type": "code",
   "execution_count": null,
   "metadata": {
    "colab": {
     "base_uri": "https://localhost:8080/",
     "height": 295
    },
    "id": "mBZxwbRZ2Age",
    "outputId": "8793f570-b1e3-4d16-a3b9-58f1f28573b4"
   },
   "outputs": [],
   "source": [
    "stats.probplot(colegiox_homem['NOTA_MT'], dist=\"norm\", plot=plt)\n",
    "plt.title(\"Normal QQ plot\")\n",
    "plt.show()"
   ]
  },
  {
   "cell_type": "code",
   "execution_count": null,
   "metadata": {
    "colab": {
     "base_uri": "https://localhost:8080/"
    },
    "id": "IBfa5zVE1Zg_",
    "outputId": "127864d6-087d-4258-a05f-389e54ce1674"
   },
   "outputs": [],
   "source": [
    "# Teste Shapiro-Wilk - CIÊNCIAS DA NATUREZA\n",
    "stats.shapiro(colegiox_mulher.NOTA_CN)"
   ]
  },
  {
   "cell_type": "code",
   "execution_count": null,
   "metadata": {
    "colab": {
     "base_uri": "https://localhost:8080/",
     "height": 295
    },
    "id": "9rgdPBbT2LfF",
    "outputId": "28148bba-c843-4ccd-ca13-621f7f04a2f6"
   },
   "outputs": [],
   "source": [
    "stats.probplot(colegiox_mulher['NOTA_CN'], dist=\"norm\", plot=plt)\n",
    "plt.title(\"Normal QQ plot\")\n",
    "plt.show()"
   ]
  },
  {
   "cell_type": "code",
   "execution_count": null,
   "metadata": {
    "colab": {
     "base_uri": "https://localhost:8080/"
    },
    "id": "xe9t3jWT1oQ_",
    "outputId": "93829143-caf2-4395-e154-2bf7808fa6ff"
   },
   "outputs": [],
   "source": [
    "stats.shapiro(colegiox_homem.NOTA_CN)"
   ]
  },
  {
   "cell_type": "code",
   "execution_count": null,
   "metadata": {
    "colab": {
     "base_uri": "https://localhost:8080/",
     "height": 295
    },
    "id": "T4IIcC9cfAw0",
    "outputId": "1b203110-3b70-4ca8-f2e5-8ff33eb59ade"
   },
   "outputs": [],
   "source": [
    "stats.probplot(colegiox_homem['NOTA_CN'], dist=\"norm\", plot=plt)\n",
    "plt.title(\"Normal QQ plot\")\n",
    "plt.show()"
   ]
  },
  {
   "cell_type": "markdown",
   "metadata": {
    "id": "4rmFTSIiiUGV"
   },
   "source": [
    "**TESTE MANN WHITNEY**\n",
    "\n",
    "Comparação das medianas das notas homens e mulheres do colégio X."
   ]
  },
  {
   "cell_type": "markdown",
   "metadata": {
    "id": "IAnRzT0_xGiN"
   },
   "source": [
    "Ho = NÃO HÁ DIFERENÇA ENTRE AS MEDIANAS DAS NOTAS DE HOMENS E MULHERES : p > 0.05\n",
    "\n",
    "Ha = HÁ DIFERENÇA ENTRE AS MEDIANAS DAS NOTAS ENTRE HOMENS E MULHERES : p <= 0.05"
   ]
  },
  {
   "cell_type": "code",
   "execution_count": null,
   "metadata": {
    "id": "ulnFdXe738AN"
   },
   "outputs": [],
   "source": [
    "import scipy.stats as stats"
   ]
  },
  {
   "cell_type": "code",
   "execution_count": null,
   "metadata": {
    "colab": {
     "base_uri": "https://localhost:8080/"
    },
    "id": "QgeATvp6f8A8",
    "outputId": "1a1f51d5-79c3-4496-e48b-8f88ba736ffd"
   },
   "outputs": [],
   "source": [
    "stat, p = stats.mannwhitneyu(colegiox_mulher.NOTA_MT, colegiox_homem.NOTA_MT)\n",
    "print('Estatística de teste: {}'.format(stat.round(2)))\n",
    "print('p-valor: {}'.format(p))"
   ]
  },
  {
   "cell_type": "code",
   "execution_count": null,
   "metadata": {
    "colab": {
     "base_uri": "https://localhost:8080/"
    },
    "id": "cSRS0IcT3_aa",
    "outputId": "1f511d62-3d3f-4212-f864-34f3e616975e"
   },
   "outputs": [],
   "source": [
    "stat, p = stats.mannwhitneyu(colegiox_mulher.NOTA_CN, colegiox_homem.NOTA_CN)\n",
    "print('Estatística de teste: {}'.format(stat.round(2)))\n",
    "print('p-valor: {}'.format(p))"
   ]
  },
  {
   "cell_type": "code",
   "execution_count": null,
   "metadata": {
    "colab": {
     "base_uri": "https://localhost:8080/"
    },
    "id": "FzR1rSkSgGwY",
    "outputId": "47be96af-76d9-4ef5-dccf-abf76cde92ec"
   },
   "outputs": [],
   "source": [
    "colegiox_mulher.NOTA_MT.describe()"
   ]
  },
  {
   "cell_type": "code",
   "execution_count": null,
   "metadata": {
    "colab": {
     "base_uri": "https://localhost:8080/"
    },
    "id": "tDPmHRt_gfQ8",
    "outputId": "3226d400-9a4d-493b-b618-1b9891cada46"
   },
   "outputs": [],
   "source": [
    "colegiox_homem.NOTA_MT.describe()"
   ]
  },
  {
   "cell_type": "code",
   "execution_count": null,
   "metadata": {
    "colab": {
     "base_uri": "https://localhost:8080/"
    },
    "id": "sG4VV_Fc4zkz",
    "outputId": "46d1bedc-f4dd-4d5e-b762-dfeacaeb22c0"
   },
   "outputs": [],
   "source": [
    "colegiox_mulher.NOTA_CN.describe()"
   ]
  },
  {
   "cell_type": "code",
   "execution_count": null,
   "metadata": {
    "colab": {
     "base_uri": "https://localhost:8080/"
    },
    "id": "Wczt6wml44oh",
    "outputId": "4426fc06-8b62-404d-c412-b5f91d1bc3b3"
   },
   "outputs": [],
   "source": [
    "colegiox_homem.NOTA_CN.describe()"
   ]
  },
  {
   "cell_type": "code",
   "execution_count": null,
   "metadata": {
    "id": "XJOH6EsF6SxP"
   },
   "outputs": [],
   "source": [
    "import plotly.express as px"
   ]
  },
  {
   "cell_type": "code",
   "execution_count": null,
   "metadata": {
    "colab": {
     "base_uri": "https://localhost:8080/",
     "height": 542
    },
    "id": "85rHrskl6HLI",
    "outputId": "d2d26a31-2f82-487f-8d72-036be130d985"
   },
   "outputs": [],
   "source": [
    "grafico = px.box(colegiox, x = 'SEXO', y=\"NOTA_MT\")\n",
    "grafico.show()"
   ]
  },
  {
   "cell_type": "code",
   "execution_count": null,
   "metadata": {
    "colab": {
     "base_uri": "https://localhost:8080/",
     "height": 542
    },
    "id": "JUU6ZBi56m9Q",
    "outputId": "4f60308b-1698-4766-9c67-3aedde07064b"
   },
   "outputs": [],
   "source": [
    "grafico = px.box(colegiox, x = 'SEXO', y=\"NOTA_CN\")\n",
    "grafico.show()"
   ]
  },
  {
   "cell_type": "markdown",
   "metadata": {
    "id": "Oanhqgecveuo"
   },
   "source": [
    "**Conclusão:** Estatisticamente, com intervalo de confiança de 95%, não se pode concluir que a mediana das notas de Matemática e Ciências da natureza do colegio X sejam diferentes entre homens e mulheres.\n",
    "\n"
   ]
  }
 ],
 "metadata": {
  "colab": {
   "collapsed_sections": [],
   "name": "teste_mann_whitney.ipynb",
   "provenance": []
  },
  "kernelspec": {
   "display_name": "Python 3 (ipykernel)",
   "language": "python",
   "name": "python3"
  },
  "language_info": {
   "codemirror_mode": {
    "name": "ipython",
    "version": 3
   },
   "file_extension": ".py",
   "mimetype": "text/x-python",
   "name": "python",
   "nbconvert_exporter": "python",
   "pygments_lexer": "ipython3",
   "version": "3.9.13"
  }
 },
 "nbformat": 4,
 "nbformat_minor": 1
}
