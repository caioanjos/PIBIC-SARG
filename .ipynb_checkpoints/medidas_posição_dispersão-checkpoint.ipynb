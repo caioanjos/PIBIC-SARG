{
 "cells": [
  {
   "cell_type": "markdown",
   "metadata": {
    "id": "u49o_i42jJOW"
   },
   "source": [
    "## **Medidas de dispersão e de posição** \n"
   ]
  },
  {
   "cell_type": "code",
   "execution_count": null,
   "metadata": {
    "id": "qBfPIhEzUATt"
   },
   "outputs": [],
   "source": [
    "import numpy as np\n",
    "import pandas as pd"
   ]
  },
  {
   "cell_type": "code",
   "execution_count": null,
   "metadata": {
    "id": "T80BqJgUjjqS"
   },
   "outputs": [],
   "source": [
    "enem_sp = pd.read_csv('/content/drive/MyDrive/Cursos_Udemy/curso_estatistica_python/enem_2019_tratado.csv', sep=',', encoding='iso-8859-1')"
   ]
  },
  {
   "cell_type": "markdown",
   "metadata": {
    "id": "aFV-LyAAxBGZ"
   },
   "source": [
    "## Medidas de dispersão"
   ]
  },
  {
   "cell_type": "code",
   "execution_count": null,
   "metadata": {
    "colab": {
     "base_uri": "https://localhost:8080/"
    },
    "id": "TFMYuhtJw8K5",
    "outputId": "efa21b59-d305-446f-8bfb-3bd3d5d1e32d"
   },
   "outputs": [],
   "source": [
    "enem_sp['NOTA_MT'].var() # Variância"
   ]
  },
  {
   "cell_type": "code",
   "execution_count": null,
   "metadata": {
    "colab": {
     "base_uri": "https://localhost:8080/"
    },
    "id": "O9IWMP4ow4Nb",
    "outputId": "33b268b4-c218-4563-f435-c96b8e898b2f"
   },
   "outputs": [],
   "source": [
    "enem_sp.NOTA_MT.var()"
   ]
  },
  {
   "cell_type": "code",
   "execution_count": null,
   "metadata": {
    "colab": {
     "base_uri": "https://localhost:8080/"
    },
    "id": "rZ91OWKxxjxo",
    "outputId": "21511bfd-29c3-46bc-8dc0-a568470d1558"
   },
   "outputs": [],
   "source": [
    "enem_sp.NOTA_MT.std() # Desvio padrão"
   ]
  },
  {
   "cell_type": "code",
   "execution_count": null,
   "metadata": {
    "colab": {
     "base_uri": "https://localhost:8080/"
    },
    "id": "Fkk0W-2LxtCv",
    "outputId": "2156c27d-28a1-47f4-f191-2334c1b77c20"
   },
   "outputs": [],
   "source": [
    "enem_sp.NOTA_MT.mean() # Média"
   ]
  },
  {
   "cell_type": "code",
   "execution_count": null,
   "metadata": {
    "colab": {
     "base_uri": "https://localhost:8080/"
    },
    "id": "DkifVGhKz0wy",
    "outputId": "f8a11e90-89ab-496c-f9fc-badff5703ab6"
   },
   "outputs": [],
   "source": [
    "enem_sp.NOTA_MT.mad() # Desvio absoluto"
   ]
  },
  {
   "cell_type": "code",
   "execution_count": null,
   "metadata": {
    "colab": {
     "base_uri": "https://localhost:8080/"
    },
    "id": "Wndk-yPIx4h3",
    "outputId": "46b50765-1e5f-4dbe-c48d-48eb1a0e2a3b"
   },
   "outputs": [],
   "source": [
    "enem_sp.NOTA_REDACAO.var()"
   ]
  },
  {
   "cell_type": "code",
   "execution_count": null,
   "metadata": {
    "colab": {
     "base_uri": "https://localhost:8080/"
    },
    "id": "kwoXDdruyJGW",
    "outputId": "6c9f36b4-3df8-41fb-d81a-93029e8a0454"
   },
   "outputs": [],
   "source": [
    "enem_sp.NOTA_REDACAO.std()"
   ]
  },
  {
   "cell_type": "code",
   "execution_count": null,
   "metadata": {
    "colab": {
     "base_uri": "https://localhost:8080/"
    },
    "id": "RC-Jnwg1ySxl",
    "outputId": "7b804a28-7b6e-49e2-865b-094f9bd7ee04"
   },
   "outputs": [],
   "source": [
    "enem_sp.NOTA_REDACAO.mean()"
   ]
  },
  {
   "cell_type": "code",
   "execution_count": null,
   "metadata": {
    "colab": {
     "base_uri": "https://localhost:8080/",
     "height": 304
    },
    "id": "yBOGVoGjysQV",
    "outputId": "af1ad8ba-0a3f-450e-da24-c8f66968a6cc"
   },
   "outputs": [],
   "source": [
    "enem_sp.describe()"
   ]
  },
  {
   "cell_type": "markdown",
   "metadata": {
    "id": "YeJLPvqqzVyi"
   },
   "source": [
    "## Medidas de Posição"
   ]
  },
  {
   "cell_type": "code",
   "execution_count": null,
   "metadata": {
    "colab": {
     "base_uri": "https://localhost:8080/"
    },
    "id": "AYmsAgKt1CTO",
    "outputId": "9e5c53e3-0466-47a8-e25f-085458e70fb2"
   },
   "outputs": [],
   "source": [
    "# Mínimo\n",
    "enem_sp['NOTA_MT'].min()"
   ]
  },
  {
   "cell_type": "code",
   "execution_count": null,
   "metadata": {
    "colab": {
     "base_uri": "https://localhost:8080/"
    },
    "id": "-wULQGUC1Hc9",
    "outputId": "486486e5-fa2a-40d0-ce1d-fa35f39e7078"
   },
   "outputs": [],
   "source": [
    "enem_sp.NOTA_MT.min()"
   ]
  },
  {
   "cell_type": "code",
   "execution_count": null,
   "metadata": {
    "colab": {
     "base_uri": "https://localhost:8080/"
    },
    "id": "yRoz7NO41Nmf",
    "outputId": "b537c7ec-10e7-43b9-9d6a-4cfdfb2da633"
   },
   "outputs": [],
   "source": [
    "# Máximo\n",
    "enem_sp['NOTA_MT'].max()"
   ]
  },
  {
   "cell_type": "code",
   "execution_count": null,
   "metadata": {
    "colab": {
     "base_uri": "https://localhost:8080/"
    },
    "id": "Piy39Kgszaxr",
    "outputId": "3e89919b-08de-4603-a7fb-624e0cd49b47"
   },
   "outputs": [],
   "source": [
    "# Primeiro Quartil\n",
    "enem_sp['NOTA_MT'].quantile(q=0.25)"
   ]
  },
  {
   "cell_type": "code",
   "execution_count": null,
   "metadata": {
    "colab": {
     "base_uri": "https://localhost:8080/"
    },
    "id": "uxLfONSm0z1i",
    "outputId": "7218fcec-5aed-4288-8547-079f0f649b01"
   },
   "outputs": [],
   "source": [
    "# Segundo Quartil (Mediana)\n",
    "enem_sp['NOTA_MT'].quantile(q=0.5)"
   ]
  },
  {
   "cell_type": "code",
   "execution_count": null,
   "metadata": {
    "colab": {
     "base_uri": "https://localhost:8080/"
    },
    "id": "YSMI_ZLK08Y2",
    "outputId": "5a61b498-3acd-4bab-eaf6-1f547ba48892"
   },
   "outputs": [],
   "source": [
    "# Terceiro Quartil\n",
    "enem_sp['NOTA_MT'].quantile(q=0.75)"
   ]
  },
  {
   "cell_type": "code",
   "execution_count": null,
   "metadata": {
    "colab": {
     "base_uri": "https://localhost:8080/"
    },
    "id": "sDoADqWE_ejo",
    "outputId": "97a7713b-3840-40f6-bc31-e809ba060e9c"
   },
   "outputs": [],
   "source": [
    "enem_sp['NOTA_MT'].quantile(q=0.99)"
   ]
  },
  {
   "cell_type": "code",
   "execution_count": null,
   "metadata": {
    "colab": {
     "base_uri": "https://localhost:8080/"
    },
    "id": "VTbWkdlK1ddF",
    "outputId": "ac921f0e-2f62-4fe8-f2e9-571c53b3c22b"
   },
   "outputs": [],
   "source": [
    "enem_sp.NOTA_MT.describe()"
   ]
  },
  {
   "cell_type": "code",
   "execution_count": null,
   "metadata": {
    "colab": {
     "base_uri": "https://localhost:8080/",
     "height": 304
    },
    "id": "YRaniQpX1x_U",
    "outputId": "39c5c590-ea3a-4613-e72a-e1c131184678"
   },
   "outputs": [],
   "source": [
    "enem_sp.describe()"
   ]
  },
  {
   "cell_type": "markdown",
   "metadata": {
    "id": "_NjvPort3i5m"
   },
   "source": [
    "## Gráfico BoxPlot e Outliers"
   ]
  },
  {
   "cell_type": "markdown",
   "metadata": {
    "id": "2zdW_4uU3o4W"
   },
   "source": [
    "### Matplotlib"
   ]
  },
  {
   "cell_type": "code",
   "execution_count": null,
   "metadata": {
    "id": "e193RWfX1_f7"
   },
   "outputs": [],
   "source": [
    "import matplotlib.pyplot as plt"
   ]
  },
  {
   "cell_type": "code",
   "execution_count": null,
   "metadata": {
    "colab": {
     "base_uri": "https://localhost:8080/",
     "height": 265
    },
    "id": "iGGksQlR3_oG",
    "outputId": "90fb05fa-67a7-4fea-fe83-093d934ea719"
   },
   "outputs": [],
   "source": [
    "plt.boxplot(enem_sp.NOTA_MT)\n",
    "plt.show()"
   ]
  },
  {
   "cell_type": "markdown",
   "metadata": {
    "id": "WdNJuBLA5_dg"
   },
   "source": [
    "### Seaborn"
   ]
  },
  {
   "cell_type": "code",
   "execution_count": null,
   "metadata": {
    "id": "DYNO6Ecr6rq-"
   },
   "outputs": [],
   "source": [
    "import seaborn as sns"
   ]
  },
  {
   "cell_type": "code",
   "execution_count": null,
   "metadata": {
    "colab": {
     "base_uri": "https://localhost:8080/",
     "height": 252
    },
    "id": "W6o3tRKg5-xC",
    "outputId": "aafd58db-d242-430f-fab2-a70781adb3c9"
   },
   "outputs": [],
   "source": [
    "sns.boxplot(y='NOTA_MT', data=enem_sp);"
   ]
  },
  {
   "cell_type": "markdown",
   "metadata": {
    "id": "ScWeChCL7uyj"
   },
   "source": [
    "### Plotly"
   ]
  },
  {
   "cell_type": "code",
   "execution_count": null,
   "metadata": {
    "id": "2J5koL5x_Brw"
   },
   "outputs": [],
   "source": [
    "import plotly.express as px"
   ]
  },
  {
   "cell_type": "code",
   "execution_count": null,
   "metadata": {
    "colab": {
     "base_uri": "https://localhost:8080/",
     "height": 542
    },
    "id": "Inq9Ob7I7rSd",
    "outputId": "ac705b37-7ec4-45fa-8ecf-98492e366cc4"
   },
   "outputs": [],
   "source": [
    "grafico = px.box(enem_sp, y=\"NOTA_MT\")\n",
    "grafico.show()"
   ]
  },
  {
   "cell_type": "code",
   "execution_count": null,
   "metadata": {
    "id": "RiAg15Kn-Pm5"
   },
   "outputs": [],
   "source": [
    "sem_outliers = enem_sp.loc[enem_sp.NOTA_MT <= 902.9 ]"
   ]
  },
  {
   "cell_type": "code",
   "execution_count": null,
   "metadata": {
    "id": "TwTqqvIJEUDV"
   },
   "outputs": [],
   "source": [
    "sem_outliers = sem_outliers.loc[sem_outliers.NOTA_MT >= 359.1]"
   ]
  },
  {
   "cell_type": "code",
   "execution_count": null,
   "metadata": {
    "colab": {
     "base_uri": "https://localhost:8080/",
     "height": 232
    },
    "id": "W9MYmRDxFJeH",
    "outputId": "5fbd89b8-1cf2-4055-ac2f-29f160852346"
   },
   "outputs": [],
   "source": [
    "sem_outliers.head()"
   ]
  },
  {
   "cell_type": "code",
   "execution_count": null,
   "metadata": {
    "colab": {
     "base_uri": "https://localhost:8080/",
     "height": 542
    },
    "id": "bTcKBu46FA-7",
    "outputId": "31eff257-cde8-4722-add6-c583e045636b"
   },
   "outputs": [],
   "source": [
    "grafico = px.box(sem_outliers, y=\"NOTA_MT\")\n",
    "grafico.show()"
   ]
  },
  {
   "cell_type": "code",
   "execution_count": null,
   "metadata": {
    "colab": {
     "base_uri": "https://localhost:8080/",
     "height": 542
    },
    "id": "ugT3qnav2ZBb",
    "outputId": "f962a32b-df48-4a1b-d14e-379bf2fc7025"
   },
   "outputs": [],
   "source": [
    "grafico = px.box(enem_sp, y=\"NOTA_CN\")\n",
    "grafico.show()"
   ]
  },
  {
   "cell_type": "code",
   "execution_count": null,
   "metadata": {
    "colab": {
     "base_uri": "https://localhost:8080/",
     "height": 542
    },
    "id": "L0KmWV8P2pt1",
    "outputId": "28ee1d1f-7fc0-40c8-b5c4-6683cb658f76"
   },
   "outputs": [],
   "source": [
    "grafico = px.box(enem_sp, y=\"NOTA_CH\")\n",
    "grafico.show()"
   ]
  },
  {
   "cell_type": "code",
   "execution_count": null,
   "metadata": {
    "colab": {
     "base_uri": "https://localhost:8080/",
     "height": 542
    },
    "id": "_dzjXfjC238p",
    "outputId": "6305fd44-6542-440d-8189-3f67ed90c00f"
   },
   "outputs": [],
   "source": [
    "grafico = px.box(enem_sp, y=\"NOTA_LC\")\n",
    "grafico.show()"
   ]
  },
  {
   "cell_type": "code",
   "execution_count": null,
   "metadata": {
    "colab": {
     "base_uri": "https://localhost:8080/",
     "height": 542
    },
    "id": "LWqhSnsK4oFr",
    "outputId": "11192892-0352-4067-e7f2-a50daad65cfb"
   },
   "outputs": [],
   "source": [
    "grafico = px.box(enem_sp, y=\"NOTA_REDACAO\")\n",
    "grafico.show()"
   ]
  },
  {
   "cell_type": "code",
   "execution_count": null,
   "metadata": {
    "colab": {
     "base_uri": "https://localhost:8080/",
     "height": 542
    },
    "id": "cNRUeVEB4_Kr",
    "outputId": "969548b3-cc92-49dc-ab09-54fb8cd54c75"
   },
   "outputs": [],
   "source": [
    "grafico = px.box(enem_sp, x = 'SEXO', y=\"NOTA_MT\")\n",
    "grafico.show()"
   ]
  },
  {
   "cell_type": "code",
   "execution_count": null,
   "metadata": {
    "colab": {
     "base_uri": "https://localhost:8080/",
     "height": 542
    },
    "id": "3xKUlUET5dpC",
    "outputId": "eb45d01f-05d6-4ec0-8c4d-b32a4ac3b537"
   },
   "outputs": [],
   "source": [
    "grafico = px.box(enem_sp, x = 'RACA', y=\"NOTA_MT\")\n",
    "grafico.show()"
   ]
  },
  {
   "cell_type": "code",
   "execution_count": null,
   "metadata": {
    "colab": {
     "base_uri": "https://localhost:8080/",
     "height": 542
    },
    "id": "VzRlx8RU6L3R",
    "outputId": "4bc337db-8621-49f3-daba-c4b4fb0d1756"
   },
   "outputs": [],
   "source": [
    "grafico = px.box(enem_sp, x = 'ESCOLA', y=\"NOTA_MT\")\n",
    "grafico.show()\n"
   ]
  }
 ],
 "metadata": {
  "colab": {
   "collapsed_sections": [],
   "name": "medidas_posição_dispersão.ipynb",
   "provenance": []
  },
  "kernelspec": {
   "display_name": "Python 3 (ipykernel)",
   "language": "python",
   "name": "python3"
  },
  "language_info": {
   "codemirror_mode": {
    "name": "ipython",
    "version": 3
   },
   "file_extension": ".py",
   "mimetype": "text/x-python",
   "name": "python",
   "nbconvert_exporter": "python",
   "pygments_lexer": "ipython3",
   "version": "3.9.13"
  }
 },
 "nbformat": 4,
 "nbformat_minor": 1
}
