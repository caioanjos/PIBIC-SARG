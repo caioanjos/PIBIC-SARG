{
 "cells": [
  {
   "cell_type": "markdown",
   "metadata": {
    "id": "Qt6NFwxO68nL"
   },
   "source": [
    "## TESTE t Student (duas amostras independentes) "
   ]
  },
  {
   "cell_type": "markdown",
   "metadata": {
    "id": "vB_V4a2EAIKe"
   },
   "source": [
    "Amostras pequenas (menor que 30)\n",
    "\n",
    "Não necessita conhecimento do desvio padrão"
   ]
  },
  {
   "cell_type": "code",
   "execution_count": null,
   "metadata": {
    "id": "P1k_GEUd62ik"
   },
   "outputs": [],
   "source": [
    "import numpy as np\n",
    "import pandas as pd"
   ]
  },
  {
   "cell_type": "code",
   "execution_count": null,
   "metadata": {
    "id": "DzMEX3BJoN3u"
   },
   "outputs": [],
   "source": [
    "enem_sp = pd.read_csv(\"C:\\\\Users\\\\amand\\\\Downloads\\\\enem_2019_tratado.csv\",\n",
    "                      sep=',', encoding='iso-8859-1')"
   ]
  },
  {
   "cell_type": "code",
   "execution_count": null,
   "metadata": {
    "id": "87gu1YCcblfL"
   },
   "outputs": [],
   "source": [
    "enem_sp.head()"
   ]
  },
  {
   "cell_type": "markdown",
   "metadata": {
    "id": "4aVRAjCFS3pr"
   },
   "source": [
    "Objetivo:\n",
    "Analisar a diferença entre as médias de dois componentes de redação do colégio y.\n",
    "\n",
    "\n",
    "\n",
    "\n"
   ]
  },
  {
   "cell_type": "code",
   "execution_count": null,
   "metadata": {
    "id": "QjUHhWqFoVG4"
   },
   "outputs": [],
   "source": [
    "colegioy = enem_sp.loc[enem_sp.CO_ESCOLA == 35151506.0]"
   ]
  },
  {
   "cell_type": "code",
   "execution_count": null,
   "metadata": {
    "colab": {
     "base_uri": "https://localhost:8080/"
    },
    "id": "ro1T9FRnoz3u",
    "outputId": "f60bb9f6-c2ec-468c-8221-cabcb4ac3d89"
   },
   "outputs": [],
   "source": [
    "colegioy.shape"
   ]
  },
  {
   "cell_type": "code",
   "execution_count": null,
   "metadata": {
    "colab": {
     "base_uri": "https://localhost:8080/",
     "height": 215
    },
    "id": "5AYuP9cMcRhz",
    "outputId": "1d89f8de-f567-42ef-c6f0-d779ec51cde6"
   },
   "outputs": [],
   "source": [
    "colegioy.head()"
   ]
  },
  {
   "cell_type": "markdown",
   "metadata": {
    "id": "CBuFd2yGfSMP"
   },
   "source": [
    "1) Analisar a classificação das variáveis"
   ]
  },
  {
   "cell_type": "code",
   "execution_count": null,
   "metadata": {
    "colab": {
     "base_uri": "https://localhost:8080/"
    },
    "id": "VZfjhBVufRdz",
    "outputId": "5e86d29e-9814-40ee-a6c9-4d785b3d54ee"
   },
   "outputs": [],
   "source": [
    "colegioy.dtypes"
   ]
  },
  {
   "cell_type": "markdown",
   "metadata": {
    "id": "6pMJjefKgP8u"
   },
   "source": [
    "2) Analisar valores missing"
   ]
  },
  {
   "cell_type": "code",
   "execution_count": null,
   "metadata": {
    "colab": {
     "base_uri": "https://localhost:8080/"
    },
    "id": "Jk34lwvkgTdy",
    "outputId": "c86a6411-daf6-4039-a9e4-96ea32fee283"
   },
   "outputs": [],
   "source": [
    "colegioy.isnull().sum()"
   ]
  },
  {
   "cell_type": "markdown",
   "metadata": {
    "id": "Gp-LFhhXgxNo"
   },
   "source": [
    "3) Analisar outliers"
   ]
  },
  {
   "cell_type": "code",
   "execution_count": null,
   "metadata": {
    "id": "iVl4Du_PgwjE"
   },
   "outputs": [],
   "source": [
    "import plotly.express as px"
   ]
  },
  {
   "cell_type": "code",
   "execution_count": null,
   "metadata": {
    "colab": {
     "base_uri": "https://localhost:8080/",
     "height": 542
    },
    "id": "TL5yjLWKhH4c",
    "outputId": "ca6216ad-2431-4e8f-dab7-00acaba03d35"
   },
   "outputs": [],
   "source": [
    "grafico = px.box(colegioy, y=\"COMP3\")\n",
    "grafico.show()"
   ]
  },
  {
   "cell_type": "code",
   "execution_count": null,
   "metadata": {
    "colab": {
     "base_uri": "https://localhost:8080/",
     "height": 542
    },
    "id": "bXm2bUmpvGxw",
    "outputId": "9d2029e4-2e66-4c5e-d4bb-e78ca8de1e3e"
   },
   "outputs": [],
   "source": [
    "grafico = px.box(colegioy, y=\"COMP5\")\n",
    "grafico.show()"
   ]
  },
  {
   "cell_type": "markdown",
   "metadata": {
    "id": "KSbhsCFohR9O"
   },
   "source": [
    "4) Analisar Normalidade"
   ]
  },
  {
   "cell_type": "markdown",
   "metadata": {
    "id": "Y7ax_KNLh_3F"
   },
   "source": [
    "CRITÉRIOS:\n",
    "\n",
    "NÍVEL DE SIGNIFICÂNCIA DE 0,05 ou 5% (MAIS UTILIZADO)\n",
    "\n",
    "QUANDO p > 0,05 (distribuição normal)."
   ]
  },
  {
   "cell_type": "code",
   "execution_count": null,
   "metadata": {
    "id": "fGuhZuEbH4ld"
   },
   "outputs": [],
   "source": [
    "import scipy.stats as stats"
   ]
  },
  {
   "cell_type": "code",
   "execution_count": null,
   "metadata": {
    "colab": {
     "base_uri": "https://localhost:8080/"
    },
    "id": "uAwCqFApomAk",
    "outputId": "43c3816f-839b-4629-ec39-eb15249252b6"
   },
   "outputs": [],
   "source": [
    "# Teste Shapiro-Wilk\n",
    "stats.shapiro(colegioy.COMP3)"
   ]
  },
  {
   "cell_type": "code",
   "execution_count": null,
   "metadata": {
    "colab": {
     "base_uri": "https://localhost:8080/"
    },
    "id": "WuMuvFNkmJ9A",
    "outputId": "f7a70ba9-f4b7-4b6a-c181-78c3bc6e84eb"
   },
   "outputs": [],
   "source": [
    "import statsmodels\n",
    "from statsmodels.stats.diagnostic import lilliefors"
   ]
  },
  {
   "cell_type": "code",
   "execution_count": null,
   "metadata": {
    "colab": {
     "base_uri": "https://localhost:8080/"
    },
    "id": "XtO7hcxHk-_6",
    "outputId": "94e9e3bd-7665-42e5-85c5-e67d74492dd3"
   },
   "outputs": [],
   "source": [
    "# Teste Lilliefors (Kolmogorov_Sminorv)\n",
    "statsmodels.stats.diagnostic.lilliefors(colegioy.COMP3, dist = 'norm')"
   ]
  },
  {
   "cell_type": "code",
   "execution_count": null,
   "metadata": {
    "colab": {
     "base_uri": "https://localhost:8080/",
     "height": 279
    },
    "id": "UZhguR7Qiy5Q",
    "outputId": "df7c209d-1cdb-498e-dc82-2d1ae4f3675f"
   },
   "outputs": [],
   "source": [
    "import seaborn as sns\n",
    "sns.histplot(colegioy, x='COMP5', bins=6, color=\"red\", kde=True, stat=\"probability\");"
   ]
  },
  {
   "cell_type": "code",
   "execution_count": null,
   "metadata": {
    "colab": {
     "base_uri": "https://localhost:8080/",
     "height": 283
    },
    "id": "jGcVEGjJvNV1",
    "outputId": "fa24520a-be27-404d-8430-a7eb495ba351"
   },
   "outputs": [],
   "source": [
    "sns.histplot(colegioy, x='COMP3', bins=6, color=\"green\", kde=True, stat=\"probability\");"
   ]
  },
  {
   "cell_type": "code",
   "execution_count": null,
   "metadata": {
    "id": "89NBIIl9jHFZ"
   },
   "outputs": [],
   "source": [
    "import scipy.stats as stats\n",
    "import matplotlib.pyplot as plt"
   ]
  },
  {
   "cell_type": "code",
   "execution_count": null,
   "metadata": {
    "colab": {
     "base_uri": "https://localhost:8080/",
     "height": 295
    },
    "id": "C8sjAI4tjQaW",
    "outputId": "7a92bd31-a375-4f10-bfa4-04464e24e6a5"
   },
   "outputs": [],
   "source": [
    "stats.probplot(colegioy['COMP3'], dist=\"norm\", plot=plt)\n",
    "plt.title(\"Normal QQ plot\")\n",
    "plt.show()"
   ]
  },
  {
   "cell_type": "markdown",
   "metadata": {
    "id": "OC_jCCbr3Dmf"
   },
   "source": [
    "5) HOMOGENEIDADE DAS VARIÂNCIAS (HOMOCEDASTICIDADE)\n",
    "\n",
    "Variabilidade dos erros constante."
   ]
  },
  {
   "cell_type": "markdown",
   "metadata": {
    "id": "iJ4KW8YK3RKE"
   },
   "source": [
    "Ho = variâncias homogêneas : p > 0.05\n",
    "\n",
    "Ha = variâncias não homogêneas : p <= 0.05"
   ]
  },
  {
   "cell_type": "code",
   "execution_count": null,
   "metadata": {
    "id": "NlU2PELGzi2t"
   },
   "outputs": [],
   "source": [
    "# teste de Levene\n",
    "from scipy.stats import levene"
   ]
  },
  {
   "cell_type": "code",
   "execution_count": null,
   "metadata": {
    "colab": {
     "base_uri": "https://localhost:8080/"
    },
    "id": "Gy5flz0GzVoN",
    "outputId": "51ad8b19-d766-448c-97a3-e946b8d43dbb"
   },
   "outputs": [],
   "source": [
    "stat, p = levene(colegioy.COMP3, colegioy.COMP5, center='mean')\n",
    "print('Estatística de teste: {}'.format(stat.round(2)))\n",
    "print('p-valor: {}'.format(p.round(10)))"
   ]
  },
  {
   "cell_type": "markdown",
   "metadata": {
    "id": "4rmFTSIiiUGV"
   },
   "source": [
    "**TESTE t-student**\n",
    "\n",
    "Comparação das Médias das notas dos componentes 3 e 5 da redação do colégio Y."
   ]
  },
  {
   "cell_type": "markdown",
   "metadata": {
    "id": "IAnRzT0_xGiN"
   },
   "source": [
    "Ho = NÃO HÁ DIFERENÇA ENTRE AS MÉDIAS DOS COMPONENTES : p > 0.05\n",
    "\n",
    "Ha = HÁ DIFERENÇA ENTRE AS MÉDIAS DOS COMPONENTES : p <= 0.05"
   ]
  },
  {
   "cell_type": "code",
   "execution_count": null,
   "metadata": {
    "id": "vJ9fMU6Sy2bp"
   },
   "outputs": [],
   "source": [
    "import scipy.stats as stats"
   ]
  },
  {
   "cell_type": "code",
   "execution_count": null,
   "metadata": {
    "colab": {
     "base_uri": "https://localhost:8080/"
    },
    "id": "f4Owd2zjccOM",
    "outputId": "1d5406d8-0a7c-4770-f95e-09fcaa160a44"
   },
   "outputs": [],
   "source": [
    "stat, p = stats.ttest_ind(colegioy['COMP3'], colegioy['COMP5'], equal_var=True)\n",
    "print('Estatística de teste: {}'.format(stat.round(2)))\n",
    "print('p-valor: {}'.format(p.round(10)))"
   ]
  },
  {
   "cell_type": "code",
   "execution_count": null,
   "metadata": {
    "colab": {
     "base_uri": "https://localhost:8080/"
    },
    "id": "jZ4-NBl5utSZ",
    "outputId": "504b5d4b-5060-47fc-a8d4-2f1a8c3e7196"
   },
   "outputs": [],
   "source": [
    "colegioy.COMP3.describe()"
   ]
  },
  {
   "cell_type": "code",
   "execution_count": null,
   "metadata": {
    "colab": {
     "base_uri": "https://localhost:8080/"
    },
    "id": "ujv8jhHuxP_a",
    "outputId": "ed401ad9-a062-4ec1-86b6-88439fa90de8"
   },
   "outputs": [],
   "source": [
    "colegioy.COMP5.describe()"
   ]
  },
  {
   "cell_type": "markdown",
   "metadata": {
    "id": "Oanhqgecveuo"
   },
   "source": [
    "**INTERPRETAÇÃO:**\n",
    "\n",
    "Teste estatístico: -0,38\n",
    "\n",
    "p_valor = 0,707\n",
    "\n",
    "Conclusão: Estatisticamente, com intervalo de confiança de 95%, a média do componente 3 de redação não é diferente da média do componente 5 com relação ao colegio y. \n",
    "\n"
   ]
  }
 ],
 "metadata": {
  "colab": {
   "collapsed_sections": [],
   "name": "teste_t_student.ipynb",
   "provenance": []
  },
  "kernelspec": {
   "display_name": "Python 3 (ipykernel)",
   "language": "python",
   "name": "python3"
  },
  "language_info": {
   "codemirror_mode": {
    "name": "ipython",
    "version": 3
   },
   "file_extension": ".py",
   "mimetype": "text/x-python",
   "name": "python",
   "nbconvert_exporter": "python",
   "pygments_lexer": "ipython3",
   "version": "3.9.13"
  }
 },
 "nbformat": 4,
 "nbformat_minor": 1
}
