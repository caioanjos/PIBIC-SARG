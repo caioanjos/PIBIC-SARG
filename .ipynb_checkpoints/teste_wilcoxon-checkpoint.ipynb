{
 "cells": [
  {
   "cell_type": "markdown",
   "metadata": {
    "id": "Qt6NFwxO68nL"
   },
   "source": [
    "## TESTE WILCOXON (duas amostras dependentes) "
   ]
  },
  {
   "cell_type": "markdown",
   "metadata": {
    "id": "vB_V4a2EAIKe"
   },
   "source": [
    "Teste Não paramétrico"
   ]
  },
  {
   "cell_type": "code",
   "execution_count": null,
   "metadata": {
    "executionInfo": {
     "elapsed": 639,
     "status": "ok",
     "timestamp": 1618174563054,
     "user": {
      "displayName": "Luciano Galdino",
      "photoUrl": "https://lh3.googleusercontent.com/a-/AOh14GgaNY-epjtHOhz09zIjdrru63PLVGWU6bE85leYCQ=s64",
      "userId": "10237697037323960148"
     },
     "user_tz": 180
    },
    "id": "P1k_GEUd62ik"
   },
   "outputs": [],
   "source": [
    "import numpy as np\n",
    "import pandas as pd"
   ]
  },
  {
   "cell_type": "code",
   "execution_count": null,
   "metadata": {
    "executionInfo": {
     "elapsed": 2482,
     "status": "ok",
     "timestamp": 1618174568964,
     "user": {
      "displayName": "Luciano Galdino",
      "photoUrl": "https://lh3.googleusercontent.com/a-/AOh14GgaNY-epjtHOhz09zIjdrru63PLVGWU6bE85leYCQ=s64",
      "userId": "10237697037323960148"
     },
     "user_tz": 180
    },
    "id": "DzMEX3BJoN3u"
   },
   "outputs": [],
   "source": [
    "enem_sp = pd.read_csv(\"C:\\\\Users\\\\amand\\\\Downloads\\\\enem_2019_tratado.csv\",\n",
    "                      sep=',', encoding='iso-8859-1')"
   ]
  },
  {
   "cell_type": "markdown",
   "metadata": {
    "id": "4aVRAjCFS3pr"
   },
   "source": [
    "Objetivo:\n",
    "Analisar a diferença mediana da nota de redação com relação aos seus componentes.\n",
    "\n",
    "**Obs.:** amostras independentes = analisa diferença nas medianas. \n",
    "\n",
    "amostras dependentes = analisa a mediana das diferenças.\n",
    "\n",
    "\n",
    "\n",
    "\n"
   ]
  },
  {
   "cell_type": "code",
   "execution_count": null,
   "metadata": {
    "executionInfo": {
     "elapsed": 658,
     "status": "ok",
     "timestamp": 1618174622034,
     "user": {
      "displayName": "Luciano Galdino",
      "photoUrl": "https://lh3.googleusercontent.com/a-/AOh14GgaNY-epjtHOhz09zIjdrru63PLVGWU6bE85leYCQ=s64",
      "userId": "10237697037323960148"
     },
     "user_tz": 180
    },
    "id": "QjUHhWqFoVG4"
   },
   "outputs": [],
   "source": [
    "colegioy = enem_sp.loc[enem_sp.CO_ESCOLA == 35151506.0]"
   ]
  },
  {
   "cell_type": "code",
   "execution_count": null,
   "metadata": {
    "colab": {
     "base_uri": "https://localhost:8080/"
    },
    "executionInfo": {
     "elapsed": 626,
     "status": "ok",
     "timestamp": 1618174624247,
     "user": {
      "displayName": "Luciano Galdino",
      "photoUrl": "https://lh3.googleusercontent.com/a-/AOh14GgaNY-epjtHOhz09zIjdrru63PLVGWU6bE85leYCQ=s64",
      "userId": "10237697037323960148"
     },
     "user_tz": 180
    },
    "id": "ro1T9FRnoz3u",
    "outputId": "8de7a50e-26e7-4025-cdd7-be9d4999a63b"
   },
   "outputs": [],
   "source": [
    "colegioy.shape"
   ]
  },
  {
   "cell_type": "code",
   "execution_count": null,
   "metadata": {
    "id": "5AYuP9cMcRhz"
   },
   "outputs": [],
   "source": [
    "colegioy.head()"
   ]
  },
  {
   "cell_type": "markdown",
   "metadata": {
    "id": "CBuFd2yGfSMP"
   },
   "source": [
    "1) Analisar a classificação das variáveis"
   ]
  },
  {
   "cell_type": "code",
   "execution_count": null,
   "metadata": {
    "colab": {
     "base_uri": "https://localhost:8080/"
    },
    "executionInfo": {
     "elapsed": 598,
     "status": "ok",
     "timestamp": 1618174628885,
     "user": {
      "displayName": "Luciano Galdino",
      "photoUrl": "https://lh3.googleusercontent.com/a-/AOh14GgaNY-epjtHOhz09zIjdrru63PLVGWU6bE85leYCQ=s64",
      "userId": "10237697037323960148"
     },
     "user_tz": 180
    },
    "id": "VZfjhBVufRdz",
    "outputId": "945f0d96-6814-49fe-99eb-913e8f6cf9c3"
   },
   "outputs": [],
   "source": [
    "colegioy.dtypes"
   ]
  },
  {
   "cell_type": "markdown",
   "metadata": {
    "id": "6pMJjefKgP8u"
   },
   "source": [
    "2) Analisar valores missing"
   ]
  },
  {
   "cell_type": "code",
   "execution_count": null,
   "metadata": {
    "colab": {
     "base_uri": "https://localhost:8080/"
    },
    "executionInfo": {
     "elapsed": 599,
     "status": "ok",
     "timestamp": 1618174632462,
     "user": {
      "displayName": "Luciano Galdino",
      "photoUrl": "https://lh3.googleusercontent.com/a-/AOh14GgaNY-epjtHOhz09zIjdrru63PLVGWU6bE85leYCQ=s64",
      "userId": "10237697037323960148"
     },
     "user_tz": 180
    },
    "id": "Jk34lwvkgTdy",
    "outputId": "78335d6c-d7e0-43be-d3c1-e0030b53f4c6"
   },
   "outputs": [],
   "source": [
    "colegioy.isnull().sum()"
   ]
  },
  {
   "cell_type": "markdown",
   "metadata": {
    "id": "Gp-LFhhXgxNo"
   },
   "source": [
    "3) Analisar outliers"
   ]
  },
  {
   "cell_type": "code",
   "execution_count": null,
   "metadata": {
    "executionInfo": {
     "elapsed": 1258,
     "status": "ok",
     "timestamp": 1618174639106,
     "user": {
      "displayName": "Luciano Galdino",
      "photoUrl": "https://lh3.googleusercontent.com/a-/AOh14GgaNY-epjtHOhz09zIjdrru63PLVGWU6bE85leYCQ=s64",
      "userId": "10237697037323960148"
     },
     "user_tz": 180
    },
    "id": "iVl4Du_PgwjE"
   },
   "outputs": [],
   "source": [
    "import plotly.express as px"
   ]
  },
  {
   "cell_type": "code",
   "execution_count": null,
   "metadata": {
    "colab": {
     "base_uri": "https://localhost:8080/",
     "height": 542
    },
    "executionInfo": {
     "elapsed": 1269,
     "status": "ok",
     "timestamp": 1618174672406,
     "user": {
      "displayName": "Luciano Galdino",
      "photoUrl": "https://lh3.googleusercontent.com/a-/AOh14GgaNY-epjtHOhz09zIjdrru63PLVGWU6bE85leYCQ=s64",
      "userId": "10237697037323960148"
     },
     "user_tz": 180
    },
    "id": "TL5yjLWKhH4c",
    "outputId": "58fde566-8901-4718-94df-cb54dbde50ba"
   },
   "outputs": [],
   "source": [
    "grafico = px.box(colegioy, y=\"NOTA_REDACAO\")\n",
    "grafico.show()"
   ]
  },
  {
   "cell_type": "markdown",
   "metadata": {
    "id": "KSbhsCFohR9O"
   },
   "source": [
    "4) Analisar Normalidade"
   ]
  },
  {
   "cell_type": "markdown",
   "metadata": {
    "id": "Y7ax_KNLh_3F"
   },
   "source": [
    "A diferença entre as variáveis é que deve ser normal.\n",
    "\n",
    "CRITÉRIOS:\n",
    "\n",
    "NÍVEL DE SIGNIFICÂNCIA DE 0,05 ou 5% (MAIS UTILIZADO)\n",
    "\n",
    "QUANDO p > 0,05 (distribuição normal)."
   ]
  },
  {
   "cell_type": "code",
   "execution_count": null,
   "metadata": {
    "executionInfo": {
     "elapsed": 972,
     "status": "ok",
     "timestamp": 1618174715822,
     "user": {
      "displayName": "Luciano Galdino",
      "photoUrl": "https://lh3.googleusercontent.com/a-/AOh14GgaNY-epjtHOhz09zIjdrru63PLVGWU6bE85leYCQ=s64",
      "userId": "10237697037323960148"
     },
     "user_tz": 180
    },
    "id": "fGuhZuEbH4ld"
   },
   "outputs": [],
   "source": [
    "import scipy.stats as stats"
   ]
  },
  {
   "cell_type": "code",
   "execution_count": null,
   "metadata": {
    "executionInfo": {
     "elapsed": 615,
     "status": "ok",
     "timestamp": 1618174723971,
     "user": {
      "displayName": "Luciano Galdino",
      "photoUrl": "https://lh3.googleusercontent.com/a-/AOh14GgaNY-epjtHOhz09zIjdrru63PLVGWU6bE85leYCQ=s64",
      "userId": "10237697037323960148"
     },
     "user_tz": 180
    },
    "id": "OS7iXb1mCo5y"
   },
   "outputs": [],
   "source": [
    "diferenca1 = colegioy.NOTA_REDACAO - colegioy.COMP1"
   ]
  },
  {
   "cell_type": "code",
   "execution_count": null,
   "metadata": {
    "executionInfo": {
     "elapsed": 637,
     "status": "ok",
     "timestamp": 1618174727923,
     "user": {
      "displayName": "Luciano Galdino",
      "photoUrl": "https://lh3.googleusercontent.com/a-/AOh14GgaNY-epjtHOhz09zIjdrru63PLVGWU6bE85leYCQ=s64",
      "userId": "10237697037323960148"
     },
     "user_tz": 180
    },
    "id": "UwCwK1uVITOD"
   },
   "outputs": [],
   "source": [
    "diferenca2 = colegioy.NOTA_REDACAO - colegioy.COMP2"
   ]
  },
  {
   "cell_type": "code",
   "execution_count": null,
   "metadata": {
    "executionInfo": {
     "elapsed": 842,
     "status": "ok",
     "timestamp": 1618174731381,
     "user": {
      "displayName": "Luciano Galdino",
      "photoUrl": "https://lh3.googleusercontent.com/a-/AOh14GgaNY-epjtHOhz09zIjdrru63PLVGWU6bE85leYCQ=s64",
      "userId": "10237697037323960148"
     },
     "user_tz": 180
    },
    "id": "G3wnyla8IcQb"
   },
   "outputs": [],
   "source": [
    "diferenca3 = colegioy.NOTA_REDACAO - colegioy.COMP3"
   ]
  },
  {
   "cell_type": "code",
   "execution_count": null,
   "metadata": {
    "executionInfo": {
     "elapsed": 3559,
     "status": "ok",
     "timestamp": 1618174735684,
     "user": {
      "displayName": "Luciano Galdino",
      "photoUrl": "https://lh3.googleusercontent.com/a-/AOh14GgaNY-epjtHOhz09zIjdrru63PLVGWU6bE85leYCQ=s64",
      "userId": "10237697037323960148"
     },
     "user_tz": 180
    },
    "id": "_cQXzOSHIicC"
   },
   "outputs": [],
   "source": [
    "diferenca4 = colegioy.NOTA_REDACAO - colegioy.COMP4"
   ]
  },
  {
   "cell_type": "code",
   "execution_count": null,
   "metadata": {
    "executionInfo": {
     "elapsed": 904,
     "status": "ok",
     "timestamp": 1618174735685,
     "user": {
      "displayName": "Luciano Galdino",
      "photoUrl": "https://lh3.googleusercontent.com/a-/AOh14GgaNY-epjtHOhz09zIjdrru63PLVGWU6bE85leYCQ=s64",
      "userId": "10237697037323960148"
     },
     "user_tz": 180
    },
    "id": "t0zARF3kIk1E"
   },
   "outputs": [],
   "source": [
    "diferenca5 = colegioy.NOTA_REDACAO - colegioy.COMP5"
   ]
  },
  {
   "cell_type": "code",
   "execution_count": null,
   "metadata": {
    "colab": {
     "base_uri": "https://localhost:8080/"
    },
    "executionInfo": {
     "elapsed": 605,
     "status": "ok",
     "timestamp": 1618174770931,
     "user": {
      "displayName": "Luciano Galdino",
      "photoUrl": "https://lh3.googleusercontent.com/a-/AOh14GgaNY-epjtHOhz09zIjdrru63PLVGWU6bE85leYCQ=s64",
      "userId": "10237697037323960148"
     },
     "user_tz": 180
    },
    "id": "s4BKksKtIBk6",
    "outputId": "ff4c4772-068a-40b3-bc7b-cf11e9f9624a"
   },
   "outputs": [],
   "source": [
    "# Teste Shapiro-Wilk\n",
    "stats.shapiro(diferenca5)"
   ]
  },
  {
   "cell_type": "markdown",
   "metadata": {
    "id": "4rmFTSIiiUGV"
   },
   "source": [
    "**TESTE WILCOXON**\n",
    "\n",
    "Comparação das Medianas das diferenças que não passaram no teste de normalidade."
   ]
  },
  {
   "cell_type": "markdown",
   "metadata": {
    "id": "IAnRzT0_xGiN"
   },
   "source": [
    "Ho = NÃO HÁ DIFERENÇA ENTRE AS DIFERENÇAS DAS MEDIANAS: p > 0.05\n",
    "\n",
    "Ha = HÁ DIFERENÇA ENTRE AS DIFERENÇAS DAS MEDIANAS: p <= 0.05"
   ]
  },
  {
   "cell_type": "code",
   "execution_count": null,
   "metadata": {
    "executionInfo": {
     "elapsed": 599,
     "status": "ok",
     "timestamp": 1618174878638,
     "user": {
      "displayName": "Luciano Galdino",
      "photoUrl": "https://lh3.googleusercontent.com/a-/AOh14GgaNY-epjtHOhz09zIjdrru63PLVGWU6bE85leYCQ=s64",
      "userId": "10237697037323960148"
     },
     "user_tz": 180
    },
    "id": "vJ9fMU6Sy2bp"
   },
   "outputs": [],
   "source": [
    "import scipy.stats as stats"
   ]
  },
  {
   "cell_type": "code",
   "execution_count": null,
   "metadata": {
    "colab": {
     "base_uri": "https://localhost:8080/"
    },
    "executionInfo": {
     "elapsed": 602,
     "status": "ok",
     "timestamp": 1618174939458,
     "user": {
      "displayName": "Luciano Galdino",
      "photoUrl": "https://lh3.googleusercontent.com/a-/AOh14GgaNY-epjtHOhz09zIjdrru63PLVGWU6bE85leYCQ=s64",
      "userId": "10237697037323960148"
     },
     "user_tz": 180
    },
    "id": "-sVftfgoC9Zk",
    "outputId": "a16e5ea0-449f-4a6e-e5b7-fd6651e0e889"
   },
   "outputs": [],
   "source": [
    "stat, p = stats.wilcoxon(diferenca1,diferenca3)\n",
    "print('Estatística de teste: {}'.format(stat.round(2)))\n",
    "print('p-valor: {}'.format(p.round(10)))"
   ]
  },
  {
   "cell_type": "code",
   "execution_count": null,
   "metadata": {
    "colab": {
     "base_uri": "https://localhost:8080/"
    },
    "executionInfo": {
     "elapsed": 787,
     "status": "ok",
     "timestamp": 1618174959890,
     "user": {
      "displayName": "Luciano Galdino",
      "photoUrl": "https://lh3.googleusercontent.com/a-/AOh14GgaNY-epjtHOhz09zIjdrru63PLVGWU6bE85leYCQ=s64",
      "userId": "10237697037323960148"
     },
     "user_tz": 180
    },
    "id": "e8E8fNJ-Ncn1",
    "outputId": "307932f5-8a20-44a8-dbc4-2ce9794cf876"
   },
   "outputs": [],
   "source": [
    "diferenca1.median()"
   ]
  },
  {
   "cell_type": "code",
   "execution_count": null,
   "metadata": {
    "colab": {
     "base_uri": "https://localhost:8080/"
    },
    "executionInfo": {
     "elapsed": 671,
     "status": "ok",
     "timestamp": 1618174962296,
     "user": {
      "displayName": "Luciano Galdino",
      "photoUrl": "https://lh3.googleusercontent.com/a-/AOh14GgaNY-epjtHOhz09zIjdrru63PLVGWU6bE85leYCQ=s64",
      "userId": "10237697037323960148"
     },
     "user_tz": 180
    },
    "id": "SauQ5PM0NfpT",
    "outputId": "1ee2305f-5193-4339-a00e-e3d8280c43ca"
   },
   "outputs": [],
   "source": [
    "diferenca3.median()"
   ]
  },
  {
   "cell_type": "code",
   "execution_count": null,
   "metadata": {
    "colab": {
     "base_uri": "https://localhost:8080/"
    },
    "executionInfo": {
     "elapsed": 785,
     "status": "ok",
     "timestamp": 1618175009703,
     "user": {
      "displayName": "Luciano Galdino",
      "photoUrl": "https://lh3.googleusercontent.com/a-/AOh14GgaNY-epjtHOhz09zIjdrru63PLVGWU6bE85leYCQ=s64",
      "userId": "10237697037323960148"
     },
     "user_tz": 180
    },
    "id": "2mQc8U99YuSx",
    "outputId": "b02b4a3e-4cf9-4099-e68f-2484aed2ed2c"
   },
   "outputs": [],
   "source": [
    "stat, p = stats.wilcoxon(colegioy.COMP1,colegioy.COMP3)\n",
    "print('Estatística de teste: {}'.format(stat.round(2)))\n",
    "print('p-valor: {}'.format(p.round(10)))"
   ]
  },
  {
   "cell_type": "code",
   "execution_count": null,
   "metadata": {
    "colab": {
     "base_uri": "https://localhost:8080/"
    },
    "executionInfo": {
     "elapsed": 605,
     "status": "ok",
     "timestamp": 1618175066155,
     "user": {
      "displayName": "Luciano Galdino",
      "photoUrl": "https://lh3.googleusercontent.com/a-/AOh14GgaNY-epjtHOhz09zIjdrru63PLVGWU6bE85leYCQ=s64",
      "userId": "10237697037323960148"
     },
     "user_tz": 180
    },
    "id": "emJB-1HvWN6B",
    "outputId": "2ea3132f-a0ae-4711-acd0-8d22d1dd72ed"
   },
   "outputs": [],
   "source": [
    "stat, p = stats.wilcoxon(diferenca1, diferenca4)\n",
    "print('Estatística de teste: {}'.format(stat.round(2)))\n",
    "print('p-valor: {}'.format(p.round(10)))"
   ]
  },
  {
   "cell_type": "code",
   "execution_count": null,
   "metadata": {
    "colab": {
     "base_uri": "https://localhost:8080/"
    },
    "executionInfo": {
     "elapsed": 914,
     "status": "ok",
     "timestamp": 1618175084296,
     "user": {
      "displayName": "Luciano Galdino",
      "photoUrl": "https://lh3.googleusercontent.com/a-/AOh14GgaNY-epjtHOhz09zIjdrru63PLVGWU6bE85leYCQ=s64",
      "userId": "10237697037323960148"
     },
     "user_tz": 180
    },
    "id": "Z8ejxOu9WSun",
    "outputId": "7ac1775d-4fa0-4a0f-99bb-25adbc84ae9b"
   },
   "outputs": [],
   "source": [
    "diferenca4.median()"
   ]
  },
  {
   "cell_type": "code",
   "execution_count": null,
   "metadata": {
    "colab": {
     "base_uri": "https://localhost:8080/"
    },
    "executionInfo": {
     "elapsed": 711,
     "status": "ok",
     "timestamp": 1618175113916,
     "user": {
      "displayName": "Luciano Galdino",
      "photoUrl": "https://lh3.googleusercontent.com/a-/AOh14GgaNY-epjtHOhz09zIjdrru63PLVGWU6bE85leYCQ=s64",
      "userId": "10237697037323960148"
     },
     "user_tz": 180
    },
    "id": "mLDOt5XjWikA",
    "outputId": "1f04620c-6a02-4eed-a156-d4dc497ca531"
   },
   "outputs": [],
   "source": [
    "stat, p = stats.wilcoxon(diferenca1, diferenca5)\n",
    "print('Estatística de teste: {}'.format(stat.round(2)))\n",
    "print('p-valor: {}'.format(p.round(10)))"
   ]
  },
  {
   "cell_type": "code",
   "execution_count": null,
   "metadata": {
    "colab": {
     "base_uri": "https://localhost:8080/"
    },
    "executionInfo": {
     "elapsed": 606,
     "status": "ok",
     "timestamp": 1618175121102,
     "user": {
      "displayName": "Luciano Galdino",
      "photoUrl": "https://lh3.googleusercontent.com/a-/AOh14GgaNY-epjtHOhz09zIjdrru63PLVGWU6bE85leYCQ=s64",
      "userId": "10237697037323960148"
     },
     "user_tz": 180
    },
    "id": "taoAuaMMWmG-",
    "outputId": "ab9ea19c-fd14-496f-bd7d-0c75b21c4748"
   },
   "outputs": [],
   "source": [
    "diferenca5.median()"
   ]
  },
  {
   "cell_type": "code",
   "execution_count": null,
   "metadata": {
    "colab": {
     "base_uri": "https://localhost:8080/"
    },
    "executionInfo": {
     "elapsed": 649,
     "status": "ok",
     "timestamp": 1618175162685,
     "user": {
      "displayName": "Luciano Galdino",
      "photoUrl": "https://lh3.googleusercontent.com/a-/AOh14GgaNY-epjtHOhz09zIjdrru63PLVGWU6bE85leYCQ=s64",
      "userId": "10237697037323960148"
     },
     "user_tz": 180
    },
    "id": "cQgFYbZeWslG",
    "outputId": "3e316ee7-5707-4f3f-d732-a61a3d43dc82"
   },
   "outputs": [],
   "source": [
    "stat, p = stats.wilcoxon(diferenca3, diferenca4)\n",
    "print('Estatística de teste: {}'.format(stat.round(2)))\n",
    "print('p-valor: {}'.format(p.round(10)))"
   ]
  },
  {
   "cell_type": "code",
   "execution_count": null,
   "metadata": {
    "colab": {
     "base_uri": "https://localhost:8080/"
    },
    "executionInfo": {
     "elapsed": 709,
     "status": "ok",
     "timestamp": 1618175210346,
     "user": {
      "displayName": "Luciano Galdino",
      "photoUrl": "https://lh3.googleusercontent.com/a-/AOh14GgaNY-epjtHOhz09zIjdrru63PLVGWU6bE85leYCQ=s64",
      "userId": "10237697037323960148"
     },
     "user_tz": 180
    },
    "id": "RI98ePC5WwhQ",
    "outputId": "790a106f-9d9f-4f62-93a4-9aef83703d69"
   },
   "outputs": [],
   "source": [
    "stat, p = stats.wilcoxon(diferenca3, diferenca5)\n",
    "print('Estatística de teste: {}'.format(stat.round(2)))\n",
    "print('p-valor: {}'.format(p.round(10)))"
   ]
  },
  {
   "cell_type": "code",
   "execution_count": null,
   "metadata": {
    "colab": {
     "base_uri": "https://localhost:8080/"
    },
    "executionInfo": {
     "elapsed": 980,
     "status": "ok",
     "timestamp": 1618175244782,
     "user": {
      "displayName": "Luciano Galdino",
      "photoUrl": "https://lh3.googleusercontent.com/a-/AOh14GgaNY-epjtHOhz09zIjdrru63PLVGWU6bE85leYCQ=s64",
      "userId": "10237697037323960148"
     },
     "user_tz": 180
    },
    "id": "QVHFU4B1W0EH",
    "outputId": "78f9d526-085e-472b-db46-0db50e77268d"
   },
   "outputs": [],
   "source": [
    "stat, p = stats.wilcoxon(diferenca4, diferenca5)\n",
    "print('Estatística de teste: {}'.format(stat.round(2)))\n",
    "print('p-valor: {}'.format(p.round(10)))"
   ]
  },
  {
   "cell_type": "markdown",
   "metadata": {
    "id": "RxNwtl6o3d1y"
   },
   "source": [
    "Conclusão: Estatisticamente, com intervalo de confiança de 95%, não há evidências para afirmar que existe diferença na diferença das medianas analisadas. "
   ]
  }
 ],
 "metadata": {
  "colab": {
   "authorship_tag": "ABX9TyOC9vNWomYuqC14y/66j1G7",
   "collapsed_sections": [],
   "mount_file_id": "1j9E9QAOWlXomYWCysodeRJURuqzyLUyD",
   "name": "teste_wilcoxon.ipynb",
   "provenance": [
    {
     "file_id": "130h8RQCnQNjG0ECmCFuRoa1k3aJYnxS7",
     "timestamp": 1618167252244
    },
    {
     "file_id": "1u5vkwz5EIhtiYUWTFuWQi0Z88AooeK_m",
     "timestamp": 1618157712862
    },
    {
     "file_id": "18nwYT7WIKPnQ_uUAJTuMP8sV3wYBnBDU",
     "timestamp": 1617898212023
    },
    {
     "file_id": "1On4RTEk6Di-qjhwXiqgxbhs6-fOFJngn",
     "timestamp": 1617420830938
    }
   ]
  },
  "kernelspec": {
   "display_name": "Python 3 (ipykernel)",
   "language": "python",
   "name": "python3"
  },
  "language_info": {
   "codemirror_mode": {
    "name": "ipython",
    "version": 3
   },
   "file_extension": ".py",
   "mimetype": "text/x-python",
   "name": "python",
   "nbconvert_exporter": "python",
   "pygments_lexer": "ipython3",
   "version": "3.9.13"
  }
 },
 "nbformat": 4,
 "nbformat_minor": 1
}
